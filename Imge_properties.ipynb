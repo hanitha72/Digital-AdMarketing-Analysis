{
 "cells": [
  {
   "cell_type": "markdown",
   "metadata": {},
   "source": [
    "<h1 align='center'>  Reading Object Class from online images"
   ]
  },
  {
   "cell_type": "code",
   "execution_count": 1,
   "metadata": {},
   "outputs": [],
   "source": [
    "# Importing needed libraries\n",
    "import numpy as np\n",
    "import pandas as pd\n",
    "import cv2\n",
    "import time\n",
    "import urllib"
   ]
  },
  {
   "cell_type": "markdown",
   "metadata": {},
   "source": [
    "## Defining Yolo weights and config files"
   ]
  },
  {
   "cell_type": "code",
   "execution_count": 2,
   "metadata": {},
   "outputs": [],
   "source": [
    "\"\"\"\n",
    "Loading YOLO v3 network\n",
    "\"\"\"\n",
    "\n",
    "with open(r'yolo-coco-data/coco.names') as f:\n",
    "    labels = [line.strip() for line in f]\n",
    "        \n",
    "\n",
    "\n",
    "network = cv2.dnn.readNetFromDarknet('yolo-coco-data/yolov3.cfg',\n",
    "                                     'yolo-coco-data/yolov3.weights')\n",
    "layers_names_all = network.getLayerNames()\n",
    "layers_names_output = \\\n",
    "    [layers_names_all[i[0] - 1] for i in network.getUnconnectedOutLayers()]\n",
    "\n",
    "probability_minimum = 0.5\n",
    "threshold = 0.3\n",
    "colours = np.random.randint(0, 255, size=(len(labels), 3), dtype='uint8')"
   ]
  },
  {
   "cell_type": "markdown",
   "metadata": {},
   "source": [
    "## TestImage Object classification"
   ]
  },
  {
   "cell_type": "code",
   "execution_count": 3,
   "metadata": {},
   "outputs": [
    {
     "data": {
      "text/plain": [
       "('downloadedImage.jpg', <http.client.HTTPMessage at 0x19dc8ebeb08>)"
      ]
     },
     "execution_count": 3,
     "metadata": {},
     "output_type": "execute_result"
    }
   ],
   "source": [
    "url = 'https://aiquire-attachments.s3.ap-south-1.amazonaws.com/2955399654497093%3Af448349112e6f340760099257600608d-frame%203.jpg'\n",
    "filename = \"downloadedImage.jpg\"\n",
    "urllib.request.urlretrieve(url,filename)"
   ]
  },
  {
   "cell_type": "code",
   "execution_count": 4,
   "metadata": {},
   "outputs": [],
   "source": [
    "def Get_OutputfromNetwork(image):\n",
    "    image_BGR = cv2.imread(image)\n",
    "    h, w = image_BGR.shape[:2]\n",
    "    blob = cv2.dnn.blobFromImage(image_BGR, 1 / 255.0, (416, 416),\n",
    "                                 swapRB=True, crop=False)\n",
    "    network.setInput(blob) \n",
    "    output_from_network = network.forward(layers_names_output)\n",
    "    \n",
    "    bounding_boxes = []\n",
    "    confidences = []\n",
    "    class_numbers = []\n",
    "    \n",
    "    for result in output_from_network:\n",
    "        for detected_objects in result:\n",
    "            scores = detected_objects[5:]\n",
    "            class_current = np.argmax(scores)\n",
    "            confidence_current = scores[class_current]\n",
    "            \n",
    "            if confidence_current > probability_minimum:\n",
    "                box_current = detected_objects[0:4] * np.array([w, h, w, h])                     \n",
    "                x_center, y_center, box_width, box_height = box_current\n",
    "                x_min = int(x_center - (box_width / 2))\n",
    "                y_min = int(y_center - (box_height / 2))           \n",
    "                bounding_boxes.append([x_min, y_min, int(box_width), int(box_height)])\n",
    "                confidences.append(float(confidence_current))\n",
    "                class_numbers.append(class_current)\n",
    "            \n",
    "    results = cv2.dnn.NMSBoxes(bounding_boxes, confidences,\n",
    "                           probability_minimum, threshold)\n",
    "    \n",
    "    if len(results) > 0:\n",
    "        pred = []\n",
    "        for i in results.flatten():\n",
    "            pred.append(labels[int(class_numbers[i])])\n",
    "\n",
    "       \n",
    "       \n",
    "    return pred"
   ]
  },
  {
   "cell_type": "code",
   "execution_count": 5,
   "metadata": {},
   "outputs": [],
   "source": [
    "results = Get_OutputfromNetwork('deepa1.jpg')"
   ]
  },
  {
   "cell_type": "code",
   "execution_count": 6,
   "metadata": {},
   "outputs": [
    {
     "data": {
      "text/plain": [
       "['person',\n",
       " 'person',\n",
       " 'person',\n",
       " 'person',\n",
       " 'tvmonitor',\n",
       " 'diningtable',\n",
       " 'cup',\n",
       " 'bowl',\n",
       " 'chair',\n",
       " 'apple']"
      ]
     },
     "execution_count": 6,
     "metadata": {},
     "output_type": "execute_result"
    }
   ],
   "source": [
    "results"
   ]
  },
  {
   "cell_type": "markdown",
   "metadata": {},
   "source": [
    "### Creating function to get prediction of Image for xls file"
   ]
  },
  {
   "cell_type": "code",
   "execution_count": 7,
   "metadata": {},
   "outputs": [],
   "source": [
    "# download's the image and read the text in it.\n",
    "def Get_ObjClass(url):\n",
    "    filename = \"downloadedImage.jpg\"\n",
    "    \n",
    "    try:\n",
    "        urllib.request.urlretrieve(url,filename)\n",
    "        ObjName = Get_OutputfromNetwork(filename)\n",
    "        os.remove(filename)\n",
    "    except:\n",
    "        empty = ['null']\n",
    "        return empty\n",
    "    \n",
    "    return ObjName"
   ]
  },
  {
   "cell_type": "markdown",
   "metadata": {},
   "source": [
    " \n",
    "<h2 style='color:green'> Prediction for excel sheet of online Images"
   ]
  },
  {
   "cell_type": "code",
   "execution_count": 8,
   "metadata": {},
   "outputs": [],
   "source": [
    "ad_data = pd.read_csv(\"ImgAdvertisement_df.csv\")"
   ]
  },
  {
   "cell_type": "code",
   "execution_count": 9,
   "metadata": {},
   "outputs": [
    {
     "data": {
      "text/html": [
       "<div>\n",
       "<style scoped>\n",
       "    .dataframe tbody tr th:only-of-type {\n",
       "        vertical-align: middle;\n",
       "    }\n",
       "\n",
       "    .dataframe tbody tr th {\n",
       "        vertical-align: top;\n",
       "    }\n",
       "\n",
       "    .dataframe thead th {\n",
       "        text-align: right;\n",
       "    }\n",
       "</style>\n",
       "<table border=\"1\" class=\"dataframe\">\n",
       "  <thead>\n",
       "    <tr style=\"text-align: right;\">\n",
       "      <th></th>\n",
       "      <th>Object ID</th>\n",
       "      <th>Results</th>\n",
       "      <th>Cost Per Result</th>\n",
       "      <th>CTR</th>\n",
       "      <th>Creative Attachment</th>\n",
       "      <th>Link</th>\n",
       "      <th>image_id</th>\n",
       "    </tr>\n",
       "  </thead>\n",
       "  <tbody>\n",
       "    <tr>\n",
       "      <th>0</th>\n",
       "      <td>1</td>\n",
       "      <td>29536</td>\n",
       "      <td>186</td>\n",
       "      <td>1.48</td>\n",
       "      <td>988</td>\n",
       "      <td>https://www.facebook.com/ads/image/?d=AQII31oc...</td>\n",
       "      <td>509</td>\n",
       "    </tr>\n",
       "    <tr>\n",
       "      <th>1</th>\n",
       "      <td>2</td>\n",
       "      <td>97570</td>\n",
       "      <td>280</td>\n",
       "      <td>1.90</td>\n",
       "      <td>1125</td>\n",
       "      <td>https://www.facebook.com/ads/image/?d=AQJlmbY5...</td>\n",
       "      <td>1675</td>\n",
       "    </tr>\n",
       "    <tr>\n",
       "      <th>2</th>\n",
       "      <td>3</td>\n",
       "      <td>75089</td>\n",
       "      <td>166</td>\n",
       "      <td>1.00</td>\n",
       "      <td>3326</td>\n",
       "      <td>https://aiquire-attachments.s3.ap-south-1.amaz...</td>\n",
       "      <td>176</td>\n",
       "    </tr>\n",
       "    <tr>\n",
       "      <th>3</th>\n",
       "      <td>4</td>\n",
       "      <td>92104</td>\n",
       "      <td>111</td>\n",
       "      <td>1.97</td>\n",
       "      <td>725</td>\n",
       "      <td>https://www.facebook.com/ads/image/?d=AQL1me3x...</td>\n",
       "      <td>2647</td>\n",
       "    </tr>\n",
       "    <tr>\n",
       "      <th>4</th>\n",
       "      <td>5</td>\n",
       "      <td>60378</td>\n",
       "      <td>429</td>\n",
       "      <td>0.33</td>\n",
       "      <td>344</td>\n",
       "      <td>https://www.facebook.com/ads/image/?d=AQKAE109...</td>\n",
       "      <td>2013</td>\n",
       "    </tr>\n",
       "  </tbody>\n",
       "</table>\n",
       "</div>"
      ],
      "text/plain": [
       "   Object ID  Results  Cost Per Result   CTR  Creative Attachment  \\\n",
       "0          1    29536              186  1.48                  988   \n",
       "1          2    97570              280  1.90                 1125   \n",
       "2          3    75089              166  1.00                 3326   \n",
       "3          4    92104              111  1.97                  725   \n",
       "4          5    60378              429  0.33                  344   \n",
       "\n",
       "                                                Link  image_id  \n",
       "0  https://www.facebook.com/ads/image/?d=AQII31oc...       509  \n",
       "1  https://www.facebook.com/ads/image/?d=AQJlmbY5...      1675  \n",
       "2  https://aiquire-attachments.s3.ap-south-1.amaz...       176  \n",
       "3  https://www.facebook.com/ads/image/?d=AQL1me3x...      2647  \n",
       "4  https://www.facebook.com/ads/image/?d=AQKAE109...      2013  "
      ]
     },
     "execution_count": 9,
     "metadata": {},
     "output_type": "execute_result"
    }
   ],
   "source": [
    "ad_data.head()"
   ]
  },
  {
   "cell_type": "code",
   "execution_count": 10,
   "metadata": {},
   "outputs": [
    {
     "data": {
      "text/plain": [
       "(3357, 7)"
      ]
     },
     "execution_count": 10,
     "metadata": {},
     "output_type": "execute_result"
    }
   ],
   "source": [
    "ad_data.shape"
   ]
  },
  {
   "cell_type": "code",
   "execution_count": 11,
   "metadata": {},
   "outputs": [],
   "source": [
    "slice1 = ad_data.head(1000)"
   ]
  },
  {
   "cell_type": "code",
   "execution_count": 12,
   "metadata": {},
   "outputs": [
    {
     "data": {
      "text/plain": [
       "(1000, 7)"
      ]
     },
     "execution_count": 12,
     "metadata": {},
     "output_type": "execute_result"
    }
   ],
   "source": [
    "slice1.shape"
   ]
  },
  {
   "cell_type": "code",
   "execution_count": 13,
   "metadata": {},
   "outputs": [],
   "source": [
    "import os"
   ]
  },
  {
   "cell_type": "code",
   "execution_count": 14,
   "metadata": {},
   "outputs": [],
   "source": [
    "def Get_ObjClass(url):\n",
    "    filename = \"downloadedImage.jpg\"\n",
    "    \n",
    "    \n",
    "    try:\n",
    "        urllib.request.urlretrieve(url,filename)\n",
    "        ObjName = Get_OutputfromNetwork(filename)\n",
    "        os.remove(filename)\n",
    "    except:\n",
    "        empty = ['null']\n",
    "        return empty\n",
    "    \n",
    "    return ObjName"
   ]
  },
  {
   "cell_type": "markdown",
   "metadata": {},
   "source": [
    "### Predictions"
   ]
  },
  {
   "cell_type": "code",
   "execution_count": 15,
   "metadata": {},
   "outputs": [
    {
     "name": "stdout",
     "output_type": "stream",
     "text": [
      "Wall time: 52min 21s\n"
     ]
    }
   ],
   "source": [
    "%%time\n",
    "ad_data[\"Obj_Names\"] = ad_data.Link.apply(Get_ObjClass)"
   ]
  },
  {
   "cell_type": "code",
   "execution_count": 17,
   "metadata": {},
   "outputs": [
    {
     "data": {
      "text/html": [
       "<div>\n",
       "<style scoped>\n",
       "    .dataframe tbody tr th:only-of-type {\n",
       "        vertical-align: middle;\n",
       "    }\n",
       "\n",
       "    .dataframe tbody tr th {\n",
       "        vertical-align: top;\n",
       "    }\n",
       "\n",
       "    .dataframe thead th {\n",
       "        text-align: right;\n",
       "    }\n",
       "</style>\n",
       "<table border=\"1\" class=\"dataframe\">\n",
       "  <thead>\n",
       "    <tr style=\"text-align: right;\">\n",
       "      <th></th>\n",
       "      <th>Object ID</th>\n",
       "      <th>Results</th>\n",
       "      <th>Cost Per Result</th>\n",
       "      <th>CTR</th>\n",
       "      <th>Creative Attachment</th>\n",
       "      <th>Link</th>\n",
       "      <th>image_id</th>\n",
       "      <th>Obj_Names</th>\n",
       "    </tr>\n",
       "  </thead>\n",
       "  <tbody>\n",
       "    <tr>\n",
       "      <th>0</th>\n",
       "      <td>1</td>\n",
       "      <td>29536</td>\n",
       "      <td>186</td>\n",
       "      <td>1.48</td>\n",
       "      <td>988</td>\n",
       "      <td>https://www.facebook.com/ads/image/?d=AQII31oc...</td>\n",
       "      <td>509</td>\n",
       "      <td>[person]</td>\n",
       "    </tr>\n",
       "    <tr>\n",
       "      <th>1</th>\n",
       "      <td>2</td>\n",
       "      <td>97570</td>\n",
       "      <td>280</td>\n",
       "      <td>1.90</td>\n",
       "      <td>1125</td>\n",
       "      <td>https://www.facebook.com/ads/image/?d=AQJlmbY5...</td>\n",
       "      <td>1675</td>\n",
       "      <td>[laptop, person]</td>\n",
       "    </tr>\n",
       "    <tr>\n",
       "      <th>2</th>\n",
       "      <td>3</td>\n",
       "      <td>75089</td>\n",
       "      <td>166</td>\n",
       "      <td>1.00</td>\n",
       "      <td>3326</td>\n",
       "      <td>https://aiquire-attachments.s3.ap-south-1.amaz...</td>\n",
       "      <td>176</td>\n",
       "      <td>[person]</td>\n",
       "    </tr>\n",
       "    <tr>\n",
       "      <th>3</th>\n",
       "      <td>4</td>\n",
       "      <td>92104</td>\n",
       "      <td>111</td>\n",
       "      <td>1.97</td>\n",
       "      <td>725</td>\n",
       "      <td>https://www.facebook.com/ads/image/?d=AQL1me3x...</td>\n",
       "      <td>2647</td>\n",
       "      <td>[bottle, cup, bottle, bottle, bottle, bottle, ...</td>\n",
       "    </tr>\n",
       "    <tr>\n",
       "      <th>4</th>\n",
       "      <td>5</td>\n",
       "      <td>60378</td>\n",
       "      <td>429</td>\n",
       "      <td>0.33</td>\n",
       "      <td>344</td>\n",
       "      <td>https://www.facebook.com/ads/image/?d=AQKAE109...</td>\n",
       "      <td>2013</td>\n",
       "      <td>[person, person, person, person, tie, cup, cup...</td>\n",
       "    </tr>\n",
       "    <tr>\n",
       "      <th>5</th>\n",
       "      <td>6</td>\n",
       "      <td>36940</td>\n",
       "      <td>352</td>\n",
       "      <td>0.01</td>\n",
       "      <td>3003</td>\n",
       "      <td>https://www.facebook.com/ads/image/?d=AQKDicA2...</td>\n",
       "      <td>2048</td>\n",
       "      <td>[null]</td>\n",
       "    </tr>\n",
       "    <tr>\n",
       "      <th>6</th>\n",
       "      <td>7</td>\n",
       "      <td>31951</td>\n",
       "      <td>337</td>\n",
       "      <td>1.29</td>\n",
       "      <td>2081</td>\n",
       "      <td>https://www.facebook.com/ads/image/?d=AQKSnUeS...</td>\n",
       "      <td>2232</td>\n",
       "      <td>[person, person, person, person, bowl]</td>\n",
       "    </tr>\n",
       "    <tr>\n",
       "      <th>7</th>\n",
       "      <td>8</td>\n",
       "      <td>98254</td>\n",
       "      <td>335</td>\n",
       "      <td>0.16</td>\n",
       "      <td>2194</td>\n",
       "      <td>https://www.facebook.com/ads/image/?d=AQJJVx8S...</td>\n",
       "      <td>1326</td>\n",
       "      <td>[null]</td>\n",
       "    </tr>\n",
       "    <tr>\n",
       "      <th>8</th>\n",
       "      <td>9</td>\n",
       "      <td>10344</td>\n",
       "      <td>452</td>\n",
       "      <td>1.59</td>\n",
       "      <td>481</td>\n",
       "      <td>https://www.facebook.com/ads/image/?d=AQInA5z1...</td>\n",
       "      <td>893</td>\n",
       "      <td>[person]</td>\n",
       "    </tr>\n",
       "    <tr>\n",
       "      <th>9</th>\n",
       "      <td>10</td>\n",
       "      <td>76376</td>\n",
       "      <td>439</td>\n",
       "      <td>0.37</td>\n",
       "      <td>532</td>\n",
       "      <td>https://www.facebook.com/ads/image/?d=AQJrYwTU...</td>\n",
       "      <td>1748</td>\n",
       "      <td>[person]</td>\n",
       "    </tr>\n",
       "    <tr>\n",
       "      <th>10</th>\n",
       "      <td>11</td>\n",
       "      <td>66617</td>\n",
       "      <td>332</td>\n",
       "      <td>0.72</td>\n",
       "      <td>3253</td>\n",
       "      <td>https://aiquire-attachments.s3.ap-south-1.amaz...</td>\n",
       "      <td>103</td>\n",
       "      <td>[person, spoon, laptop]</td>\n",
       "    </tr>\n",
       "    <tr>\n",
       "      <th>11</th>\n",
       "      <td>12</td>\n",
       "      <td>36691</td>\n",
       "      <td>155</td>\n",
       "      <td>1.64</td>\n",
       "      <td>55</td>\n",
       "      <td>https://www.facebook.com/ads/image/?d=AQK64gVn...</td>\n",
       "      <td>1961</td>\n",
       "      <td>[person, person, person, person, person, person]</td>\n",
       "    </tr>\n",
       "    <tr>\n",
       "      <th>12</th>\n",
       "      <td>13</td>\n",
       "      <td>64075</td>\n",
       "      <td>203</td>\n",
       "      <td>0.79</td>\n",
       "      <td>1257</td>\n",
       "      <td>https://www.facebook.com/ads/image/?d=AQIhla6i...</td>\n",
       "      <td>821</td>\n",
       "      <td>[null]</td>\n",
       "    </tr>\n",
       "    <tr>\n",
       "      <th>13</th>\n",
       "      <td>14</td>\n",
       "      <td>20458</td>\n",
       "      <td>115</td>\n",
       "      <td>0.53</td>\n",
       "      <td>660</td>\n",
       "      <td>https://www.facebook.com/ads/image/?d=AQKk3bkd...</td>\n",
       "      <td>2446</td>\n",
       "      <td>[null]</td>\n",
       "    </tr>\n",
       "    <tr>\n",
       "      <th>14</th>\n",
       "      <td>15</td>\n",
       "      <td>2245</td>\n",
       "      <td>318</td>\n",
       "      <td>1.28</td>\n",
       "      <td>116</td>\n",
       "      <td>https://www.facebook.com/ads/image/?d=AQJ5Jx4X...</td>\n",
       "      <td>1151</td>\n",
       "      <td>[null]</td>\n",
       "    </tr>\n",
       "    <tr>\n",
       "      <th>15</th>\n",
       "      <td>16</td>\n",
       "      <td>46280</td>\n",
       "      <td>472</td>\n",
       "      <td>0.47</td>\n",
       "      <td>17</td>\n",
       "      <td>https://www.facebook.com/ads/image/?d=AQJLiuJH...</td>\n",
       "      <td>1353</td>\n",
       "      <td>[person]</td>\n",
       "    </tr>\n",
       "    <tr>\n",
       "      <th>16</th>\n",
       "      <td>17</td>\n",
       "      <td>60860</td>\n",
       "      <td>169</td>\n",
       "      <td>0.84</td>\n",
       "      <td>274</td>\n",
       "      <td>https://www.facebook.com/ads/image/?d=AQIVEcIV...</td>\n",
       "      <td>677</td>\n",
       "      <td>[person, bird, bird, bird]</td>\n",
       "    </tr>\n",
       "    <tr>\n",
       "      <th>17</th>\n",
       "      <td>18</td>\n",
       "      <td>28660</td>\n",
       "      <td>272</td>\n",
       "      <td>0.48</td>\n",
       "      <td>174</td>\n",
       "      <td>https://www.facebook.com/ads/image/?d=AQIyZR68...</td>\n",
       "      <td>1059</td>\n",
       "      <td>[person, sports ball, sports ball]</td>\n",
       "    </tr>\n",
       "    <tr>\n",
       "      <th>18</th>\n",
       "      <td>19</td>\n",
       "      <td>3680</td>\n",
       "      <td>339</td>\n",
       "      <td>0.30</td>\n",
       "      <td>22</td>\n",
       "      <td>https://www.facebook.com/ads/image/?d=AQI-QKbs...</td>\n",
       "      <td>292</td>\n",
       "      <td>[motorbike]</td>\n",
       "    </tr>\n",
       "    <tr>\n",
       "      <th>19</th>\n",
       "      <td>20</td>\n",
       "      <td>78712</td>\n",
       "      <td>356</td>\n",
       "      <td>1.37</td>\n",
       "      <td>2338</td>\n",
       "      <td>https://www.facebook.com/ads/image/?d=AQK0qboC...</td>\n",
       "      <td>1894</td>\n",
       "      <td>[null]</td>\n",
       "    </tr>\n",
       "  </tbody>\n",
       "</table>\n",
       "</div>"
      ],
      "text/plain": [
       "    Object ID  Results  Cost Per Result   CTR  Creative Attachment  \\\n",
       "0           1    29536              186  1.48                  988   \n",
       "1           2    97570              280  1.90                 1125   \n",
       "2           3    75089              166  1.00                 3326   \n",
       "3           4    92104              111  1.97                  725   \n",
       "4           5    60378              429  0.33                  344   \n",
       "5           6    36940              352  0.01                 3003   \n",
       "6           7    31951              337  1.29                 2081   \n",
       "7           8    98254              335  0.16                 2194   \n",
       "8           9    10344              452  1.59                  481   \n",
       "9          10    76376              439  0.37                  532   \n",
       "10         11    66617              332  0.72                 3253   \n",
       "11         12    36691              155  1.64                   55   \n",
       "12         13    64075              203  0.79                 1257   \n",
       "13         14    20458              115  0.53                  660   \n",
       "14         15     2245              318  1.28                  116   \n",
       "15         16    46280              472  0.47                   17   \n",
       "16         17    60860              169  0.84                  274   \n",
       "17         18    28660              272  0.48                  174   \n",
       "18         19     3680              339  0.30                   22   \n",
       "19         20    78712              356  1.37                 2338   \n",
       "\n",
       "                                                 Link  image_id  \\\n",
       "0   https://www.facebook.com/ads/image/?d=AQII31oc...       509   \n",
       "1   https://www.facebook.com/ads/image/?d=AQJlmbY5...      1675   \n",
       "2   https://aiquire-attachments.s3.ap-south-1.amaz...       176   \n",
       "3   https://www.facebook.com/ads/image/?d=AQL1me3x...      2647   \n",
       "4   https://www.facebook.com/ads/image/?d=AQKAE109...      2013   \n",
       "5   https://www.facebook.com/ads/image/?d=AQKDicA2...      2048   \n",
       "6   https://www.facebook.com/ads/image/?d=AQKSnUeS...      2232   \n",
       "7   https://www.facebook.com/ads/image/?d=AQJJVx8S...      1326   \n",
       "8   https://www.facebook.com/ads/image/?d=AQInA5z1...       893   \n",
       "9   https://www.facebook.com/ads/image/?d=AQJrYwTU...      1748   \n",
       "10  https://aiquire-attachments.s3.ap-south-1.amaz...       103   \n",
       "11  https://www.facebook.com/ads/image/?d=AQK64gVn...      1961   \n",
       "12  https://www.facebook.com/ads/image/?d=AQIhla6i...       821   \n",
       "13  https://www.facebook.com/ads/image/?d=AQKk3bkd...      2446   \n",
       "14  https://www.facebook.com/ads/image/?d=AQJ5Jx4X...      1151   \n",
       "15  https://www.facebook.com/ads/image/?d=AQJLiuJH...      1353   \n",
       "16  https://www.facebook.com/ads/image/?d=AQIVEcIV...       677   \n",
       "17  https://www.facebook.com/ads/image/?d=AQIyZR68...      1059   \n",
       "18  https://www.facebook.com/ads/image/?d=AQI-QKbs...       292   \n",
       "19  https://www.facebook.com/ads/image/?d=AQK0qboC...      1894   \n",
       "\n",
       "                                            Obj_Names  \n",
       "0                                            [person]  \n",
       "1                                    [laptop, person]  \n",
       "2                                            [person]  \n",
       "3   [bottle, cup, bottle, bottle, bottle, bottle, ...  \n",
       "4   [person, person, person, person, tie, cup, cup...  \n",
       "5                                              [null]  \n",
       "6              [person, person, person, person, bowl]  \n",
       "7                                              [null]  \n",
       "8                                            [person]  \n",
       "9                                            [person]  \n",
       "10                            [person, spoon, laptop]  \n",
       "11   [person, person, person, person, person, person]  \n",
       "12                                             [null]  \n",
       "13                                             [null]  \n",
       "14                                             [null]  \n",
       "15                                           [person]  \n",
       "16                         [person, bird, bird, bird]  \n",
       "17                 [person, sports ball, sports ball]  \n",
       "18                                        [motorbike]  \n",
       "19                                             [null]  "
      ]
     },
     "execution_count": 17,
     "metadata": {},
     "output_type": "execute_result"
    }
   ],
   "source": [
    "ad_data.head(20)"
   ]
  },
  {
   "cell_type": "code",
   "execution_count": 18,
   "metadata": {},
   "outputs": [
    {
     "name": "stdout",
     "output_type": "stream",
     "text": [
      "1304\n"
     ]
    }
   ],
   "source": [
    "count = 0\n",
    "for objects in ad_data['Obj_Names']:\n",
    "    if 'null' in objects:\n",
    "        count+=1\n",
    "print(count)"
   ]
  },
  {
   "cell_type": "code",
   "execution_count": 19,
   "metadata": {},
   "outputs": [
    {
     "data": {
      "text/plain": [
       "1304"
      ]
     },
     "execution_count": 19,
     "metadata": {},
     "output_type": "execute_result"
    }
   ],
   "source": [
    "count"
   ]
  },
  {
   "cell_type": "code",
   "execution_count": 20,
   "metadata": {},
   "outputs": [],
   "source": [
    "ad_data.to_csv('ObjClassPrediction.csv', index=False)"
   ]
  },
  {
   "cell_type": "code",
   "execution_count": 42,
   "metadata": {},
   "outputs": [
    {
     "data": {
      "text/plain": [
       "Index(['Object ID', 'Results', 'Cost Per Result', 'CTR', 'Creative Attachment',\n",
       "       'Link', 'image_id', 'Obj_Names'],\n",
       "      dtype='object')"
      ]
     },
     "execution_count": 42,
     "metadata": {},
     "output_type": "execute_result"
    }
   ],
   "source": [
    "ad_data.columns"
   ]
  },
  {
   "cell_type": "code",
   "execution_count": 43,
   "metadata": {},
   "outputs": [
    {
     "data": {
      "text/html": [
       "<div>\n",
       "<style scoped>\n",
       "    .dataframe tbody tr th:only-of-type {\n",
       "        vertical-align: middle;\n",
       "    }\n",
       "\n",
       "    .dataframe tbody tr th {\n",
       "        vertical-align: top;\n",
       "    }\n",
       "\n",
       "    .dataframe thead th {\n",
       "        text-align: right;\n",
       "    }\n",
       "</style>\n",
       "<table border=\"1\" class=\"dataframe\">\n",
       "  <thead>\n",
       "    <tr style=\"text-align: right;\">\n",
       "      <th></th>\n",
       "      <th>Object ID</th>\n",
       "      <th>Creative Attachment</th>\n",
       "      <th>Obj_Names</th>\n",
       "    </tr>\n",
       "  </thead>\n",
       "  <tbody>\n",
       "    <tr>\n",
       "      <th>0</th>\n",
       "      <td>1</td>\n",
       "      <td>988</td>\n",
       "      <td>[person]</td>\n",
       "    </tr>\n",
       "    <tr>\n",
       "      <th>1</th>\n",
       "      <td>2</td>\n",
       "      <td>1125</td>\n",
       "      <td>[laptop, person]</td>\n",
       "    </tr>\n",
       "    <tr>\n",
       "      <th>2</th>\n",
       "      <td>3</td>\n",
       "      <td>3326</td>\n",
       "      <td>[person]</td>\n",
       "    </tr>\n",
       "  </tbody>\n",
       "</table>\n",
       "</div>"
      ],
      "text/plain": [
       "   Object ID  Creative Attachment         Obj_Names\n",
       "0          1                  988          [person]\n",
       "1          2                 1125  [laptop, person]\n",
       "2          3                 3326          [person]"
      ]
     },
     "execution_count": 43,
     "metadata": {},
     "output_type": "execute_result"
    }
   ],
   "source": [
    "ad_data = ad_data.drop(['Results', 'Cost Per Result','CTR','Link', 'image_id' ], axis = 1) \n",
    "ad_data = ad_data.drop(['Creative Attachment'], axis = 1)"
   ]
  },
  {
   "cell_type": "code",
   "execution_count": 45,
   "metadata": {},
   "outputs": [
    {
     "data": {
      "text/html": [
       "<div>\n",
       "<style scoped>\n",
       "    .dataframe tbody tr th:only-of-type {\n",
       "        vertical-align: middle;\n",
       "    }\n",
       "\n",
       "    .dataframe tbody tr th {\n",
       "        vertical-align: top;\n",
       "    }\n",
       "\n",
       "    .dataframe thead th {\n",
       "        text-align: right;\n",
       "    }\n",
       "</style>\n",
       "<table border=\"1\" class=\"dataframe\">\n",
       "  <thead>\n",
       "    <tr style=\"text-align: right;\">\n",
       "      <th></th>\n",
       "      <th>Object ID</th>\n",
       "      <th>Obj_Names</th>\n",
       "    </tr>\n",
       "  </thead>\n",
       "  <tbody>\n",
       "    <tr>\n",
       "      <th>0</th>\n",
       "      <td>1</td>\n",
       "      <td>[person]</td>\n",
       "    </tr>\n",
       "    <tr>\n",
       "      <th>1</th>\n",
       "      <td>2</td>\n",
       "      <td>[laptop, person]</td>\n",
       "    </tr>\n",
       "    <tr>\n",
       "      <th>2</th>\n",
       "      <td>3</td>\n",
       "      <td>[person]</td>\n",
       "    </tr>\n",
       "  </tbody>\n",
       "</table>\n",
       "</div>"
      ],
      "text/plain": [
       "   Object ID         Obj_Names\n",
       "0          1          [person]\n",
       "1          2  [laptop, person]\n",
       "2          3          [person]"
      ]
     },
     "execution_count": 45,
     "metadata": {},
     "output_type": "execute_result"
    }
   ],
   "source": [
    "ad_data.head(3)"
   ]
  },
  {
   "cell_type": "code",
   "execution_count": 22,
   "metadata": {},
   "outputs": [],
   "source": [
    "data = pd.read_excel('Sample Data for Creative Analysis.xlsx')"
   ]
  },
  {
   "cell_type": "code",
   "execution_count": 24,
   "metadata": {},
   "outputs": [
    {
     "data": {
      "text/html": [
       "<div>\n",
       "<style scoped>\n",
       "    .dataframe tbody tr th:only-of-type {\n",
       "        vertical-align: middle;\n",
       "    }\n",
       "\n",
       "    .dataframe tbody tr th {\n",
       "        vertical-align: top;\n",
       "    }\n",
       "\n",
       "    .dataframe thead th {\n",
       "        text-align: right;\n",
       "    }\n",
       "</style>\n",
       "<table border=\"1\" class=\"dataframe\">\n",
       "  <thead>\n",
       "    <tr style=\"text-align: right;\">\n",
       "      <th></th>\n",
       "      <th>Object ID</th>\n",
       "      <th>Results</th>\n",
       "      <th>Cost Per Result</th>\n",
       "      <th>CTR</th>\n",
       "      <th>Creative Attachment</th>\n",
       "      <th>Link</th>\n",
       "    </tr>\n",
       "  </thead>\n",
       "  <tbody>\n",
       "    <tr>\n",
       "      <th>0</th>\n",
       "      <td>1</td>\n",
       "      <td>29536</td>\n",
       "      <td>186</td>\n",
       "      <td>1.48</td>\n",
       "      <td>988</td>\n",
       "      <td>https://www.facebook.com/ads/image/?d=AQII31oc...</td>\n",
       "    </tr>\n",
       "    <tr>\n",
       "      <th>1</th>\n",
       "      <td>2</td>\n",
       "      <td>97570</td>\n",
       "      <td>280</td>\n",
       "      <td>1.90</td>\n",
       "      <td>1125</td>\n",
       "      <td>https://www.facebook.com/ads/image/?d=AQJlmbY5...</td>\n",
       "    </tr>\n",
       "    <tr>\n",
       "      <th>2</th>\n",
       "      <td>3</td>\n",
       "      <td>75089</td>\n",
       "      <td>166</td>\n",
       "      <td>1.00</td>\n",
       "      <td>3326</td>\n",
       "      <td>https://aiquire-attachments.s3.ap-south-1.amaz...</td>\n",
       "    </tr>\n",
       "    <tr>\n",
       "      <th>3</th>\n",
       "      <td>4</td>\n",
       "      <td>92104</td>\n",
       "      <td>111</td>\n",
       "      <td>1.97</td>\n",
       "      <td>725</td>\n",
       "      <td>https://www.facebook.com/ads/image/?d=AQL1me3x...</td>\n",
       "    </tr>\n",
       "    <tr>\n",
       "      <th>4</th>\n",
       "      <td>5</td>\n",
       "      <td>60378</td>\n",
       "      <td>429</td>\n",
       "      <td>0.33</td>\n",
       "      <td>344</td>\n",
       "      <td>https://www.facebook.com/ads/image/?d=AQKAE109...</td>\n",
       "    </tr>\n",
       "  </tbody>\n",
       "</table>\n",
       "</div>"
      ],
      "text/plain": [
       "   Object ID  Results  Cost Per Result   CTR  Creative Attachment  \\\n",
       "0          1    29536              186  1.48                  988   \n",
       "1          2    97570              280  1.90                 1125   \n",
       "2          3    75089              166  1.00                 3326   \n",
       "3          4    92104              111  1.97                  725   \n",
       "4          5    60378              429  0.33                  344   \n",
       "\n",
       "                                                Link  \n",
       "0  https://www.facebook.com/ads/image/?d=AQII31oc...  \n",
       "1  https://www.facebook.com/ads/image/?d=AQJlmbY5...  \n",
       "2  https://aiquire-attachments.s3.ap-south-1.amaz...  \n",
       "3  https://www.facebook.com/ads/image/?d=AQL1me3x...  \n",
       "4  https://www.facebook.com/ads/image/?d=AQKAE109...  "
      ]
     },
     "execution_count": 24,
     "metadata": {},
     "output_type": "execute_result"
    }
   ],
   "source": [
    "data.head()"
   ]
  },
  {
   "cell_type": "code",
   "execution_count": 27,
   "metadata": {},
   "outputs": [
    {
     "data": {
      "text/plain": [
       "(3357, (3357, 8), 3357)"
      ]
     },
     "execution_count": 27,
     "metadata": {},
     "output_type": "execute_result"
    }
   ],
   "source": [
    "ad_data['Creative Attachment'].nunique(), ad_data.shape, data['Creative Attachment'].nunique()"
   ]
  },
  {
   "cell_type": "code",
   "execution_count": 47,
   "metadata": {},
   "outputs": [],
   "source": [
    "Full_pred = pd.merge(data, ad_data, how = 'left', on = 'Object ID')"
   ]
  },
  {
   "cell_type": "code",
   "execution_count": 48,
   "metadata": {},
   "outputs": [
    {
     "data": {
      "text/plain": [
       "((993600, 7), (993600, 6))"
      ]
     },
     "execution_count": 48,
     "metadata": {},
     "output_type": "execute_result"
    }
   ],
   "source": [
    "Full_pred.shape, data.shape"
   ]
  },
  {
   "cell_type": "code",
   "execution_count": 49,
   "metadata": {},
   "outputs": [
    {
     "data": {
      "text/html": [
       "<div>\n",
       "<style scoped>\n",
       "    .dataframe tbody tr th:only-of-type {\n",
       "        vertical-align: middle;\n",
       "    }\n",
       "\n",
       "    .dataframe tbody tr th {\n",
       "        vertical-align: top;\n",
       "    }\n",
       "\n",
       "    .dataframe thead th {\n",
       "        text-align: right;\n",
       "    }\n",
       "</style>\n",
       "<table border=\"1\" class=\"dataframe\">\n",
       "  <thead>\n",
       "    <tr style=\"text-align: right;\">\n",
       "      <th></th>\n",
       "      <th>Object ID</th>\n",
       "      <th>Results</th>\n",
       "      <th>Cost Per Result</th>\n",
       "      <th>CTR</th>\n",
       "      <th>Creative Attachment</th>\n",
       "      <th>Link</th>\n",
       "      <th>Obj_Names</th>\n",
       "    </tr>\n",
       "  </thead>\n",
       "  <tbody>\n",
       "    <tr>\n",
       "      <th>0</th>\n",
       "      <td>1</td>\n",
       "      <td>29536</td>\n",
       "      <td>186</td>\n",
       "      <td>1.48</td>\n",
       "      <td>988</td>\n",
       "      <td>https://www.facebook.com/ads/image/?d=AQII31oc...</td>\n",
       "      <td>[person]</td>\n",
       "    </tr>\n",
       "    <tr>\n",
       "      <th>1</th>\n",
       "      <td>2</td>\n",
       "      <td>97570</td>\n",
       "      <td>280</td>\n",
       "      <td>1.90</td>\n",
       "      <td>1125</td>\n",
       "      <td>https://www.facebook.com/ads/image/?d=AQJlmbY5...</td>\n",
       "      <td>[laptop, person]</td>\n",
       "    </tr>\n",
       "    <tr>\n",
       "      <th>2</th>\n",
       "      <td>3</td>\n",
       "      <td>75089</td>\n",
       "      <td>166</td>\n",
       "      <td>1.00</td>\n",
       "      <td>3326</td>\n",
       "      <td>https://aiquire-attachments.s3.ap-south-1.amaz...</td>\n",
       "      <td>[person]</td>\n",
       "    </tr>\n",
       "    <tr>\n",
       "      <th>3</th>\n",
       "      <td>4</td>\n",
       "      <td>92104</td>\n",
       "      <td>111</td>\n",
       "      <td>1.97</td>\n",
       "      <td>725</td>\n",
       "      <td>https://www.facebook.com/ads/image/?d=AQL1me3x...</td>\n",
       "      <td>[bottle, cup, bottle, bottle, bottle, bottle, ...</td>\n",
       "    </tr>\n",
       "    <tr>\n",
       "      <th>4</th>\n",
       "      <td>5</td>\n",
       "      <td>60378</td>\n",
       "      <td>429</td>\n",
       "      <td>0.33</td>\n",
       "      <td>344</td>\n",
       "      <td>https://www.facebook.com/ads/image/?d=AQKAE109...</td>\n",
       "      <td>[person, person, person, person, tie, cup, cup...</td>\n",
       "    </tr>\n",
       "  </tbody>\n",
       "</table>\n",
       "</div>"
      ],
      "text/plain": [
       "   Object ID  Results  Cost Per Result   CTR  Creative Attachment  \\\n",
       "0          1    29536              186  1.48                  988   \n",
       "1          2    97570              280  1.90                 1125   \n",
       "2          3    75089              166  1.00                 3326   \n",
       "3          4    92104              111  1.97                  725   \n",
       "4          5    60378              429  0.33                  344   \n",
       "\n",
       "                                                Link  \\\n",
       "0  https://www.facebook.com/ads/image/?d=AQII31oc...   \n",
       "1  https://www.facebook.com/ads/image/?d=AQJlmbY5...   \n",
       "2  https://aiquire-attachments.s3.ap-south-1.amaz...   \n",
       "3  https://www.facebook.com/ads/image/?d=AQL1me3x...   \n",
       "4  https://www.facebook.com/ads/image/?d=AQKAE109...   \n",
       "\n",
       "                                           Obj_Names  \n",
       "0                                           [person]  \n",
       "1                                   [laptop, person]  \n",
       "2                                           [person]  \n",
       "3  [bottle, cup, bottle, bottle, bottle, bottle, ...  \n",
       "4  [person, person, person, person, tie, cup, cup...  "
      ]
     },
     "execution_count": 49,
     "metadata": {},
     "output_type": "execute_result"
    }
   ],
   "source": [
    "Full_pred.head()"
   ]
  },
  {
   "cell_type": "code",
   "execution_count": 50,
   "metadata": {},
   "outputs": [],
   "source": [
    "Full_pred.to_csv('FullPredictions.csv', index=False)"
   ]
  },
  {
   "cell_type": "code",
   "execution_count": null,
   "metadata": {},
   "outputs": [],
   "source": []
  },
  {
   "cell_type": "code",
   "execution_count": null,
   "metadata": {},
   "outputs": [],
   "source": []
  },
  {
   "cell_type": "code",
   "execution_count": null,
   "metadata": {},
   "outputs": [],
   "source": []
  },
  {
   "cell_type": "code",
   "execution_count": null,
   "metadata": {},
   "outputs": [],
   "source": []
  },
  {
   "cell_type": "code",
   "execution_count": null,
   "metadata": {},
   "outputs": [],
   "source": []
  },
  {
   "cell_type": "code",
   "execution_count": null,
   "metadata": {},
   "outputs": [],
   "source": []
  },
  {
   "cell_type": "code",
   "execution_count": null,
   "metadata": {},
   "outputs": [],
   "source": []
  },
  {
   "cell_type": "code",
   "execution_count": null,
   "metadata": {},
   "outputs": [],
   "source": []
  },
  {
   "cell_type": "code",
   "execution_count": null,
   "metadata": {},
   "outputs": [],
   "source": []
  }
 ],
 "metadata": {
  "kernelspec": {
   "display_name": "Python 3",
   "language": "python",
   "name": "python3"
  },
  "language_info": {
   "codemirror_mode": {
    "name": "ipython",
    "version": 3
   },
   "file_extension": ".py",
   "mimetype": "text/x-python",
   "name": "python",
   "nbconvert_exporter": "python",
   "pygments_lexer": "ipython3",
   "version": "3.7.6"
  }
 },
 "nbformat": 4,
 "nbformat_minor": 4
}
