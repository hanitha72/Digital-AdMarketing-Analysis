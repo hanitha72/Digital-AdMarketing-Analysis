{
 "cells": [
  {
   "cell_type": "markdown",
   "metadata": {},
   "source": [
    "<h1 align='center'>Ad-Analytics"
   ]
  },
  {
   "cell_type": "code",
   "execution_count": 1,
   "metadata": {},
   "outputs": [],
   "source": [
    "# !pip install easyocr"
   ]
  },
  {
   "cell_type": "code",
   "execution_count": 3,
   "metadata": {},
   "outputs": [],
   "source": [
    "import cv2\n",
    "# import easyocr\n",
    "from IPython.display import Image\n",
    "from PIL import Image\n",
    "import requests\n",
    "from io import BytesIO\n",
    "import numpy as np\n",
    "import os\n",
    "import pandas as pd\n",
    "import urllib"
   ]
  },
  {
   "cell_type": "code",
   "execution_count": 4,
   "metadata": {},
   "outputs": [],
   "source": [
    "# reader = easyocr.Reader(['en'])"
   ]
  },
  {
   "cell_type": "code",
   "execution_count": 10,
   "metadata": {},
   "outputs": [],
   "source": [
    "advertisement_df = pd.read_excel('Sample Data for Creative Analysis.xlsx')"
   ]
  },
  {
   "cell_type": "code",
   "execution_count": 11,
   "metadata": {},
   "outputs": [
    {
     "data": {
      "text/html": [
       "<div>\n",
       "<style scoped>\n",
       "    .dataframe tbody tr th:only-of-type {\n",
       "        vertical-align: middle;\n",
       "    }\n",
       "\n",
       "    .dataframe tbody tr th {\n",
       "        vertical-align: top;\n",
       "    }\n",
       "\n",
       "    .dataframe thead th {\n",
       "        text-align: right;\n",
       "    }\n",
       "</style>\n",
       "<table border=\"1\" class=\"dataframe\">\n",
       "  <thead>\n",
       "    <tr style=\"text-align: right;\">\n",
       "      <th></th>\n",
       "      <th>Object ID</th>\n",
       "      <th>Results</th>\n",
       "      <th>Cost Per Result</th>\n",
       "      <th>CTR</th>\n",
       "      <th>Creative Attachment</th>\n",
       "      <th>Link</th>\n",
       "    </tr>\n",
       "  </thead>\n",
       "  <tbody>\n",
       "    <tr>\n",
       "      <th>0</th>\n",
       "      <td>1</td>\n",
       "      <td>29536</td>\n",
       "      <td>186</td>\n",
       "      <td>1.48</td>\n",
       "      <td>988</td>\n",
       "      <td>https://www.facebook.com/ads/image/?d=AQII31oc...</td>\n",
       "    </tr>\n",
       "    <tr>\n",
       "      <th>1</th>\n",
       "      <td>2</td>\n",
       "      <td>97570</td>\n",
       "      <td>280</td>\n",
       "      <td>1.90</td>\n",
       "      <td>1125</td>\n",
       "      <td>https://www.facebook.com/ads/image/?d=AQJlmbY5...</td>\n",
       "    </tr>\n",
       "    <tr>\n",
       "      <th>2</th>\n",
       "      <td>3</td>\n",
       "      <td>75089</td>\n",
       "      <td>166</td>\n",
       "      <td>1.00</td>\n",
       "      <td>3326</td>\n",
       "      <td>https://aiquire-attachments.s3.ap-south-1.amaz...</td>\n",
       "    </tr>\n",
       "    <tr>\n",
       "      <th>3</th>\n",
       "      <td>4</td>\n",
       "      <td>92104</td>\n",
       "      <td>111</td>\n",
       "      <td>1.97</td>\n",
       "      <td>725</td>\n",
       "      <td>https://www.facebook.com/ads/image/?d=AQL1me3x...</td>\n",
       "    </tr>\n",
       "    <tr>\n",
       "      <th>4</th>\n",
       "      <td>5</td>\n",
       "      <td>60378</td>\n",
       "      <td>429</td>\n",
       "      <td>0.33</td>\n",
       "      <td>344</td>\n",
       "      <td>https://www.facebook.com/ads/image/?d=AQKAE109...</td>\n",
       "    </tr>\n",
       "  </tbody>\n",
       "</table>\n",
       "</div>"
      ],
      "text/plain": [
       "   Object ID  Results  Cost Per Result   CTR  Creative Attachment  \\\n",
       "0          1    29536              186  1.48                  988   \n",
       "1          2    97570              280  1.90                 1125   \n",
       "2          3    75089              166  1.00                 3326   \n",
       "3          4    92104              111  1.97                  725   \n",
       "4          5    60378              429  0.33                  344   \n",
       "\n",
       "                                                Link  \n",
       "0  https://www.facebook.com/ads/image/?d=AQII31oc...  \n",
       "1  https://www.facebook.com/ads/image/?d=AQJlmbY5...  \n",
       "2  https://aiquire-attachments.s3.ap-south-1.amaz...  \n",
       "3  https://www.facebook.com/ads/image/?d=AQL1me3x...  \n",
       "4  https://www.facebook.com/ads/image/?d=AQKAE109...  "
      ]
     },
     "execution_count": 11,
     "metadata": {},
     "output_type": "execute_result"
    }
   ],
   "source": [
    "advertisement_df.head()"
   ]
  },
  {
   "cell_type": "code",
   "execution_count": 12,
   "metadata": {},
   "outputs": [
    {
     "data": {
      "text/plain": [
       "Object ID              0\n",
       "Results                0\n",
       "Cost Per Result        0\n",
       "CTR                    0\n",
       "Creative Attachment    0\n",
       "Link                   0\n",
       "dtype: int64"
      ]
     },
     "execution_count": 12,
     "metadata": {},
     "output_type": "execute_result"
    }
   ],
   "source": [
    "advertisement_df.isnull().sum()"
   ]
  },
  {
   "cell_type": "code",
   "execution_count": 13,
   "metadata": {},
   "outputs": [],
   "source": [
    "#returns the keywords in the form of list.\n",
    "def GetKeyWords(_imageContent):\n",
    "    keyWords = []\n",
    "    words = \"\"\n",
    "    joiners = \"\"\n",
    "    totalContent = len(_imageContent)\n",
    "    words=[_imageContent[count][1] for count,content in enumerate(_imageContent) if count<totalContent]\n",
    "    for word in words:\n",
    "        joiners+=word+\" \"\n",
    "    keyWords = joiners.split(\" \")  \n",
    "    return keyWords[0:-1]"
   ]
  },
  {
   "cell_type": "code",
   "execution_count": 8,
   "metadata": {},
   "outputs": [],
   "source": [
    "# download's the image and read the text in it.\n",
    "def GetImageFromURL(_url):\n",
    "    filename = \"downloadedImage.jpg\"\n",
    "    try:\n",
    "        urllib.request.urlretrieve(_url,filename)\n",
    "        output = reader.readtext(filename)\n",
    "        retrieved_keywords = GetKeyWords(output)\n",
    "        os.remove(filename)\n",
    "    except:\n",
    "        empty = ['null']\n",
    "        return empty\n",
    "    \n",
    "    return retrieved_keywords"
   ]
  },
  {
   "cell_type": "code",
   "execution_count": 14,
   "metadata": {},
   "outputs": [
    {
     "data": {
      "text/plain": [
       "3357"
      ]
     },
     "execution_count": 14,
     "metadata": {},
     "output_type": "execute_result"
    }
   ],
   "source": [
    "advertisement_df.Link.nunique()"
   ]
  },
  {
   "cell_type": "code",
   "execution_count": 15,
   "metadata": {},
   "outputs": [
    {
     "data": {
      "text/html": [
       "<div>\n",
       "<style scoped>\n",
       "    .dataframe tbody tr th:only-of-type {\n",
       "        vertical-align: middle;\n",
       "    }\n",
       "\n",
       "    .dataframe tbody tr th {\n",
       "        vertical-align: top;\n",
       "    }\n",
       "\n",
       "    .dataframe thead th {\n",
       "        text-align: right;\n",
       "    }\n",
       "</style>\n",
       "<table border=\"1\" class=\"dataframe\">\n",
       "  <thead>\n",
       "    <tr style=\"text-align: right;\">\n",
       "      <th></th>\n",
       "      <th>Object ID</th>\n",
       "      <th>Results</th>\n",
       "      <th>Cost Per Result</th>\n",
       "      <th>CTR</th>\n",
       "      <th>Creative Attachment</th>\n",
       "      <th>Link</th>\n",
       "      <th>image_id</th>\n",
       "    </tr>\n",
       "  </thead>\n",
       "  <tbody>\n",
       "    <tr>\n",
       "      <th>0</th>\n",
       "      <td>1</td>\n",
       "      <td>29536</td>\n",
       "      <td>186</td>\n",
       "      <td>1.48</td>\n",
       "      <td>988</td>\n",
       "      <td>https://www.facebook.com/ads/image/?d=AQII31oc...</td>\n",
       "      <td>509</td>\n",
       "    </tr>\n",
       "    <tr>\n",
       "      <th>1</th>\n",
       "      <td>2</td>\n",
       "      <td>97570</td>\n",
       "      <td>280</td>\n",
       "      <td>1.90</td>\n",
       "      <td>1125</td>\n",
       "      <td>https://www.facebook.com/ads/image/?d=AQJlmbY5...</td>\n",
       "      <td>1675</td>\n",
       "    </tr>\n",
       "    <tr>\n",
       "      <th>2</th>\n",
       "      <td>3</td>\n",
       "      <td>75089</td>\n",
       "      <td>166</td>\n",
       "      <td>1.00</td>\n",
       "      <td>3326</td>\n",
       "      <td>https://aiquire-attachments.s3.ap-south-1.amaz...</td>\n",
       "      <td>176</td>\n",
       "    </tr>\n",
       "    <tr>\n",
       "      <th>3</th>\n",
       "      <td>4</td>\n",
       "      <td>92104</td>\n",
       "      <td>111</td>\n",
       "      <td>1.97</td>\n",
       "      <td>725</td>\n",
       "      <td>https://www.facebook.com/ads/image/?d=AQL1me3x...</td>\n",
       "      <td>2647</td>\n",
       "    </tr>\n",
       "    <tr>\n",
       "      <th>4</th>\n",
       "      <td>5</td>\n",
       "      <td>60378</td>\n",
       "      <td>429</td>\n",
       "      <td>0.33</td>\n",
       "      <td>344</td>\n",
       "      <td>https://www.facebook.com/ads/image/?d=AQKAE109...</td>\n",
       "      <td>2013</td>\n",
       "    </tr>\n",
       "  </tbody>\n",
       "</table>\n",
       "</div>"
      ],
      "text/plain": [
       "   Object ID  Results  Cost Per Result   CTR  Creative Attachment  \\\n",
       "0          1    29536              186  1.48                  988   \n",
       "1          2    97570              280  1.90                 1125   \n",
       "2          3    75089              166  1.00                 3326   \n",
       "3          4    92104              111  1.97                  725   \n",
       "4          5    60378              429  0.33                  344   \n",
       "\n",
       "                                                Link  image_id  \n",
       "0  https://www.facebook.com/ads/image/?d=AQII31oc...       509  \n",
       "1  https://www.facebook.com/ads/image/?d=AQJlmbY5...      1675  \n",
       "2  https://aiquire-attachments.s3.ap-south-1.amaz...       176  \n",
       "3  https://www.facebook.com/ads/image/?d=AQL1me3x...      2647  \n",
       "4  https://www.facebook.com/ads/image/?d=AQKAE109...      2013  "
      ]
     },
     "execution_count": 15,
     "metadata": {},
     "output_type": "execute_result"
    }
   ],
   "source": [
    "advertisement_df['image_id'] = advertisement_df.groupby(['Link']).ngroup()\n",
    "advertisement_df.head()"
   ]
  },
  {
   "cell_type": "code",
   "execution_count": 16,
   "metadata": {},
   "outputs": [
    {
     "name": "stdout",
     "output_type": "stream",
     "text": [
      "(3357, 7)\n"
     ]
    }
   ],
   "source": [
    "#subsetting only data with unique image url link\n",
    "image_df = advertisement_df.drop_duplicates(['image_id'])\n",
    "print(image_df.shape)"
   ]
  },
  {
   "cell_type": "code",
   "execution_count": 18,
   "metadata": {},
   "outputs": [],
   "source": [
    "image_df.to_csv(\"ImgAdvertisement_df.csv\",index=False)"
   ]
  },
  {
   "cell_type": "code",
   "execution_count": 19,
   "metadata": {},
   "outputs": [],
   "source": [
    "%%time\n",
    "image_df[\"Key_Words\"] = image_df.Link.apply(GetImageFromURL)\n",
    "image_df.to_csv(\"New_GroupedData.csv\",index=False)"
   ]
  },
  {
   "cell_type": "code",
   "execution_count": null,
   "metadata": {},
   "outputs": [],
   "source": [
    "image_df.head()"
   ]
  },
  {
   "cell_type": "code",
   "execution_count": null,
   "metadata": {},
   "outputs": [],
   "source": []
  }
 ],
 "metadata": {
  "kernelspec": {
   "display_name": "Python 3",
   "language": "python",
   "name": "python3"
  },
  "language_info": {
   "codemirror_mode": {
    "name": "ipython",
    "version": 3
   },
   "file_extension": ".py",
   "mimetype": "text/x-python",
   "name": "python",
   "nbconvert_exporter": "python",
   "pygments_lexer": "ipython3",
   "version": "3.7.6"
  }
 },
 "nbformat": 4,
 "nbformat_minor": 4
}
