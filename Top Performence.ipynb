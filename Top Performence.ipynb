{
 "cells": [
  {
   "cell_type": "markdown",
   "metadata": {},
   "source": [
    "<h1 align='center'> Top performence Keyword and ObjectPropperties"
   ]
  },
  {
   "cell_type": "code",
   "execution_count": 25,
   "metadata": {},
   "outputs": [],
   "source": [
    "import pandas as pd\n",
    "import numpy as np"
   ]
  },
  {
   "cell_type": "code",
   "execution_count": 26,
   "metadata": {},
   "outputs": [],
   "source": [
    "data = pd.read_csv('ad_TextImageAnalysis.csv')"
   ]
  },
  {
   "cell_type": "code",
   "execution_count": 27,
   "metadata": {},
   "outputs": [
    {
     "data": {
      "text/plain": [
       "(993600, 9)"
      ]
     },
     "execution_count": 27,
     "metadata": {},
     "output_type": "execute_result"
    }
   ],
   "source": [
    "data.shape"
   ]
  },
  {
   "cell_type": "code",
   "execution_count": 28,
   "metadata": {},
   "outputs": [
    {
     "data": {
      "text/html": [
       "<div>\n",
       "<style scoped>\n",
       "    .dataframe tbody tr th:only-of-type {\n",
       "        vertical-align: middle;\n",
       "    }\n",
       "\n",
       "    .dataframe tbody tr th {\n",
       "        vertical-align: top;\n",
       "    }\n",
       "\n",
       "    .dataframe thead th {\n",
       "        text-align: right;\n",
       "    }\n",
       "</style>\n",
       "<table border=\"1\" class=\"dataframe\">\n",
       "  <thead>\n",
       "    <tr style=\"text-align: right;\">\n",
       "      <th></th>\n",
       "      <th>Object ID</th>\n",
       "      <th>Results</th>\n",
       "      <th>Cost Per Result</th>\n",
       "      <th>CTR</th>\n",
       "      <th>Creative Attachment</th>\n",
       "      <th>Link</th>\n",
       "      <th>image_id</th>\n",
       "      <th>Key_Words</th>\n",
       "      <th>Image_props</th>\n",
       "    </tr>\n",
       "  </thead>\n",
       "  <tbody>\n",
       "    <tr>\n",
       "      <th>0</th>\n",
       "      <td>1</td>\n",
       "      <td>29536</td>\n",
       "      <td>186</td>\n",
       "      <td>1.48</td>\n",
       "      <td>988</td>\n",
       "      <td>https://www.facebook.com/ads/image/?d=AQII31oc...</td>\n",
       "      <td>509</td>\n",
       "      <td>['Nippon', 'india', 'Mutual', 'Fund', 'Wealth'...</td>\n",
       "      <td>['person']</td>\n",
       "    </tr>\n",
       "    <tr>\n",
       "      <th>1</th>\n",
       "      <td>308</td>\n",
       "      <td>24691</td>\n",
       "      <td>466</td>\n",
       "      <td>0.15</td>\n",
       "      <td>988</td>\n",
       "      <td>https://www.facebook.com/ads/image/?d=AQII31oc...</td>\n",
       "      <td>509</td>\n",
       "      <td>['Nippon', 'india', 'Mutual', 'Fund', 'Wealth'...</td>\n",
       "      <td>['person']</td>\n",
       "    </tr>\n",
       "    <tr>\n",
       "      <th>2</th>\n",
       "      <td>3140</td>\n",
       "      <td>87286</td>\n",
       "      <td>459</td>\n",
       "      <td>0.88</td>\n",
       "      <td>988</td>\n",
       "      <td>https://www.facebook.com/ads/image/?d=AQII31oc...</td>\n",
       "      <td>509</td>\n",
       "      <td>['Nippon', 'india', 'Mutual', 'Fund', 'Wealth'...</td>\n",
       "      <td>['person']</td>\n",
       "    </tr>\n",
       "    <tr>\n",
       "      <th>3</th>\n",
       "      <td>7646</td>\n",
       "      <td>88571</td>\n",
       "      <td>109</td>\n",
       "      <td>1.88</td>\n",
       "      <td>988</td>\n",
       "      <td>https://www.facebook.com/ads/image/?d=AQII31oc...</td>\n",
       "      <td>509</td>\n",
       "      <td>['Nippon', 'india', 'Mutual', 'Fund', 'Wealth'...</td>\n",
       "      <td>['person']</td>\n",
       "    </tr>\n",
       "    <tr>\n",
       "      <th>4</th>\n",
       "      <td>13183</td>\n",
       "      <td>66433</td>\n",
       "      <td>236</td>\n",
       "      <td>1.88</td>\n",
       "      <td>988</td>\n",
       "      <td>https://www.facebook.com/ads/image/?d=AQII31oc...</td>\n",
       "      <td>509</td>\n",
       "      <td>['Nippon', 'india', 'Mutual', 'Fund', 'Wealth'...</td>\n",
       "      <td>['person']</td>\n",
       "    </tr>\n",
       "  </tbody>\n",
       "</table>\n",
       "</div>"
      ],
      "text/plain": [
       "   Object ID  Results  Cost Per Result   CTR  Creative Attachment  \\\n",
       "0          1    29536              186  1.48                  988   \n",
       "1        308    24691              466  0.15                  988   \n",
       "2       3140    87286              459  0.88                  988   \n",
       "3       7646    88571              109  1.88                  988   \n",
       "4      13183    66433              236  1.88                  988   \n",
       "\n",
       "                                                Link  image_id  \\\n",
       "0  https://www.facebook.com/ads/image/?d=AQII31oc...       509   \n",
       "1  https://www.facebook.com/ads/image/?d=AQII31oc...       509   \n",
       "2  https://www.facebook.com/ads/image/?d=AQII31oc...       509   \n",
       "3  https://www.facebook.com/ads/image/?d=AQII31oc...       509   \n",
       "4  https://www.facebook.com/ads/image/?d=AQII31oc...       509   \n",
       "\n",
       "                                           Key_Words Image_props  \n",
       "0  ['Nippon', 'india', 'Mutual', 'Fund', 'Wealth'...  ['person']  \n",
       "1  ['Nippon', 'india', 'Mutual', 'Fund', 'Wealth'...  ['person']  \n",
       "2  ['Nippon', 'india', 'Mutual', 'Fund', 'Wealth'...  ['person']  \n",
       "3  ['Nippon', 'india', 'Mutual', 'Fund', 'Wealth'...  ['person']  \n",
       "4  ['Nippon', 'india', 'Mutual', 'Fund', 'Wealth'...  ['person']  "
      ]
     },
     "execution_count": 28,
     "metadata": {},
     "output_type": "execute_result"
    }
   ],
   "source": [
    "data.head()"
   ]
  },
  {
   "cell_type": "code",
   "execution_count": 41,
   "metadata": {},
   "outputs": [],
   "source": [
    "data = data[['Results', 'Cost Per Result', 'CTR','Image_props']]"
   ]
  },
  {
   "cell_type": "markdown",
   "metadata": {},
   "source": [
    "# Grouping of data based on Cost and profit"
   ]
  },
  {
   "cell_type": "markdown",
   "metadata": {},
   "source": [
    "## Image Properties\n",
    "__Sorting based on Cost Per Result__"
   ]
  },
  {
   "cell_type": "code",
   "execution_count": null,
   "metadata": {},
   "outputs": [],
   "source": []
  },
  {
   "cell_type": "code",
   "execution_count": 30,
   "metadata": {},
   "outputs": [],
   "source": [
    "cpr_gp = data.groupby('Image_props')['Cost Per Result'].mean()\n",
    "#.plot.bar()"
   ]
  },
  {
   "cell_type": "code",
   "execution_count": 31,
   "metadata": {},
   "outputs": [],
   "source": [
    "cpr_sort =cpr_gp.sort_values()"
   ]
  },
  {
   "cell_type": "code",
   "execution_count": 32,
   "metadata": {},
   "outputs": [
    {
     "data": {
      "text/plain": [
       "Image_props\n",
       "['sofa', 'pottedplant', 'bottle']                                                226.898361\n",
       "['diningtable', 'chair']                                                         229.741379\n",
       "['chair', 'refrigerator', 'clock', 'bowl']                                       233.107362\n",
       "['bowl', 'broccoli', 'carrot']                                                   233.798535\n",
       "['bed', 'person']                                                                236.068493\n",
       "['pottedplant', 'oven']                                                          236.071672\n",
       "['person', 'sandwich']                                                           236.904110\n",
       "['bed', 'handbag', 'pottedplant']                                                237.445993\n",
       "['cake']                                                                         237.634862\n",
       "['tvmonitor', 'person', 'diningtable', 'chair', 'pottedplant', 'bowl', 'cup']    238.510345\n",
       "['oven', 'pottedplant', 'vase']                                                  238.513761\n",
       "['cell phone', 'chair']                                                          238.557756\n",
       "['sink']                                                                         239.282230\n",
       "['person', 'chair', 'backpack']                                                  239.911392\n",
       "['aeroplane']                                                                    240.236887\n",
       "['sofa', 'bowl']                                                                 240.698052\n",
       "['person', 'chair', 'tie']                                                       240.915825\n",
       "['pottedplant', 'vase']                                                          241.400000\n",
       "['person', 'chair', 'sofa']                                                      241.470790\n",
       "['chair', 'pottedplant', 'vase']                                                 241.697452\n",
       "['truck']                                                                        242.157343\n",
       "['bench', 'laptop']                                                              242.235669\n",
       "['refrigerator', 'oven', 'pottedplant', 'bottle']                                242.356643\n",
       "['chair', 'sofa', 'pottedplant']                                                 242.357143\n",
       "['sofa', 'laptop']                                                               242.458955\n",
       "['oven', 'bowl', 'pottedplant', 'vase']                                          242.661654\n",
       "['pottedplant', 'sink']                                                          242.871795\n",
       "['diningtable', 'chair', 'vase']                                                 242.969388\n",
       "['person', 'pizza']                                                              243.349908\n",
       "['book', 'person']                                                               243.358156\n",
       "Name: Cost Per Result, dtype: float64"
      ]
     },
     "execution_count": 32,
     "metadata": {},
     "output_type": "execute_result"
    }
   ],
   "source": [
    "cpr_sort.head(30)"
   ]
  },
  {
   "cell_type": "markdown",
   "metadata": {},
   "source": [
    "__Sorting based on Profit__"
   ]
  },
  {
   "cell_type": "code",
   "execution_count": 52,
   "metadata": {},
   "outputs": [],
   "source": [
    "ctr_gp = data.groupby('Image_props')['CTR'].mean()"
   ]
  },
  {
   "cell_type": "code",
   "execution_count": 55,
   "metadata": {},
   "outputs": [],
   "source": [
    "ctr_sort =ctr_gp.sort_values(ascending=False)"
   ]
  },
  {
   "cell_type": "code",
   "execution_count": 56,
   "metadata": {
    "scrolled": true
   },
   "outputs": [
    {
     "data": {
      "text/plain": [
       "Image_props\n",
       "['person', 'diningtable', 'chair', 'pottedplant', 'cup', 'bowl']                 1.099966\n",
       "['person', 'tvmonitor', 'tie']                                                   1.085850\n",
       "['book', 'cell phone', 'person']                                                 1.080836\n",
       "['bed', 'chair']                                                                 1.068265\n",
       "['diningtable', 'chair', 'bottle', 'orange']                                     1.067491\n",
       "['person', 'sofa', 'chair', 'book', 'bottle', 'cell phone']                      1.066057\n",
       "['bowl', 'cup']                                                                  1.064198\n",
       "['bowl', 'pottedplant', 'bottle']                                                1.058107\n",
       "['tvmonitor', 'person', 'diningtable', 'chair', 'pottedplant', 'bowl', 'cup']    1.057103\n",
       "['toothbrush', 'person']                                                         1.053917\n",
       "['tvmonitor']                                                                    1.051621\n",
       "['person', 'chair', 'backpack']                                                  1.046582\n",
       "['chair', 'sofa', 'tvmonitor', 'pottedplant', 'book']                            1.046180\n",
       "['knife']                                                                        1.045487\n",
       "['laptop']                                                                       1.044745\n",
       "['oven', 'pottedplant', 'vase']                                                  1.043242\n",
       "['person', 'backpack', 'cell phone']                                             1.042077\n",
       "['person', 'suitcase', 'aeroplane']                                              1.040369\n",
       "['refrigerator', 'orange', 'bowl']                                               1.039094\n",
       "['pottedplant', 'oven']                                                          1.037338\n",
       "['bicycle', 'person']                                                            1.037266\n",
       "['person', 'microwave']                                                          1.036839\n",
       "['bowl', 'carrot']                                                               1.035669\n",
       "['sofa', 'pottedplant', 'chair', 'vase']                                         1.033399\n",
       "['pizza', 'bowl']                                                                1.032712\n",
       "['wine glass', 'vase', 'cell phone']                                             1.032189\n",
       "['pottedplant', 'vase', 'bottle', 'bowl']                                        1.031181\n",
       "['bed', 'book']                                                                  1.031143\n",
       "['person', 'pottedplant', 'chair']                                               1.030714\n",
       "['sofa', 'chair']                                                                1.029930\n",
       "Name: CTR, dtype: float64"
      ]
     },
     "execution_count": 56,
     "metadata": {},
     "output_type": "execute_result"
    }
   ],
   "source": [
    "ctr_sort.head(30)"
   ]
  },
  {
   "cell_type": "markdown",
   "metadata": {},
   "source": [
    "__Sorting based on Results__"
   ]
  },
  {
   "cell_type": "code",
   "execution_count": 57,
   "metadata": {},
   "outputs": [
    {
     "data": {
      "text/plain": [
       "Image_props\n",
       "['oven', 'pottedplant', 'vase']                                54533.522936\n",
       "['person', 'chair', 'sofa']                                    53681.835052\n",
       "['person', 'chair', 'backpack']                                53624.196203\n",
       "['sofa', 'bowl']                                               53573.321429\n",
       "['spoon']                                                      53408.716783\n",
       "['book', 'cell phone', 'person']                               53369.090301\n",
       "['cell phone', 'laptop', 'chair']                              53131.417241\n",
       "['cell phone', 'laptop']                                       52969.934483\n",
       "['truck']                                                      52905.877622\n",
       "['person', 'surfboard']                                        52839.046584\n",
       "['remote', 'car']                                              52823.040268\n",
       "['cup', 'cell phone', 'person']                                52685.383051\n",
       "['toilet']                                                     52629.195804\n",
       "['chair', 'person']                                            52604.735593\n",
       "['person', 'backpack', 'cell phone']                           52592.077465\n",
       "['pottedplant', 'bottle', 'vase', 'sink']                      52340.324528\n",
       "['pottedplant', 'bowl', 'spoon', 'sink']                       52326.592105\n",
       "['person', 'backpack', 'handbag']                              52306.345277\n",
       "['kite', 'person']                                             52300.118699\n",
       "['sofa', 'laptop']                                             52296.093284\n",
       "['chair', 'refrigerator', 'clock', 'bowl']                     52258.193252\n",
       "['person', 'sofa', 'chair', 'book', 'bottle', 'cell phone']    52174.223975\n",
       "['pottedplant', 'oven']                                        52141.624573\n",
       "['teddy bear']                                                 52096.017945\n",
       "['person', 'tvmonitor', 'tie']                                 52068.352041\n",
       "['person', 'backpack', 'book']                                 52049.312281\n",
       "['bowl', 'pizza']                                              52038.676056\n",
       "['bowl', 'broccoli', 'carrot']                                 51860.743590\n",
       "['bed', 'book']                                                51818.071429\n",
       "['person', 'suitcase', 'aeroplane']                            51790.657718\n",
       "Name: Results, dtype: float64"
      ]
     },
     "execution_count": 57,
     "metadata": {},
     "output_type": "execute_result"
    }
   ],
   "source": [
    "results_gp = data.groupby('Image_props')['Results'].mean()\n",
    "results_sort =results_gp.sort_values(ascending=False)\n",
    "results_sort.head(30)"
   ]
  },
  {
   "cell_type": "code",
   "execution_count": 33,
   "metadata": {},
   "outputs": [
    {
     "data": {
      "text/plain": [
       "Index(['Object ID', 'Results', 'Cost Per Result', 'CTR', 'Creative Attachment',\n",
       "       'Link', 'image_id', 'Key_Words', 'Image_props'],\n",
       "      dtype='object')"
      ]
     },
     "execution_count": 33,
     "metadata": {},
     "output_type": "execute_result"
    }
   ],
   "source": [
    "data.columns"
   ]
  },
  {
   "cell_type": "markdown",
   "metadata": {},
   "source": [
    "# Clustering of Image properties with other columns"
   ]
  },
  {
   "cell_type": "code",
   "execution_count": 58,
   "metadata": {},
   "outputs": [],
   "source": [
    "clust_data = data[['Results', 'Cost Per Result', 'CTR', 'Image_props']]"
   ]
  },
  {
   "cell_type": "code",
   "execution_count": 59,
   "metadata": {},
   "outputs": [
    {
     "data": {
      "text/html": [
       "<div>\n",
       "<style scoped>\n",
       "    .dataframe tbody tr th:only-of-type {\n",
       "        vertical-align: middle;\n",
       "    }\n",
       "\n",
       "    .dataframe tbody tr th {\n",
       "        vertical-align: top;\n",
       "    }\n",
       "\n",
       "    .dataframe thead th {\n",
       "        text-align: right;\n",
       "    }\n",
       "</style>\n",
       "<table border=\"1\" class=\"dataframe\">\n",
       "  <thead>\n",
       "    <tr style=\"text-align: right;\">\n",
       "      <th></th>\n",
       "      <th>Results</th>\n",
       "      <th>Cost Per Result</th>\n",
       "      <th>CTR</th>\n",
       "      <th>Image_props</th>\n",
       "    </tr>\n",
       "  </thead>\n",
       "  <tbody>\n",
       "    <tr>\n",
       "      <th>0</th>\n",
       "      <td>29536</td>\n",
       "      <td>186</td>\n",
       "      <td>1.48</td>\n",
       "      <td>['person']</td>\n",
       "    </tr>\n",
       "    <tr>\n",
       "      <th>1</th>\n",
       "      <td>24691</td>\n",
       "      <td>466</td>\n",
       "      <td>0.15</td>\n",
       "      <td>['person']</td>\n",
       "    </tr>\n",
       "    <tr>\n",
       "      <th>2</th>\n",
       "      <td>87286</td>\n",
       "      <td>459</td>\n",
       "      <td>0.88</td>\n",
       "      <td>['person']</td>\n",
       "    </tr>\n",
       "    <tr>\n",
       "      <th>3</th>\n",
       "      <td>88571</td>\n",
       "      <td>109</td>\n",
       "      <td>1.88</td>\n",
       "      <td>['person']</td>\n",
       "    </tr>\n",
       "    <tr>\n",
       "      <th>4</th>\n",
       "      <td>66433</td>\n",
       "      <td>236</td>\n",
       "      <td>1.88</td>\n",
       "      <td>['person']</td>\n",
       "    </tr>\n",
       "  </tbody>\n",
       "</table>\n",
       "</div>"
      ],
      "text/plain": [
       "   Results  Cost Per Result   CTR Image_props\n",
       "0    29536              186  1.48  ['person']\n",
       "1    24691              466  0.15  ['person']\n",
       "2    87286              459  0.88  ['person']\n",
       "3    88571              109  1.88  ['person']\n",
       "4    66433              236  1.88  ['person']"
      ]
     },
     "execution_count": 59,
     "metadata": {},
     "output_type": "execute_result"
    }
   ],
   "source": [
    "clust_data.head()"
   ]
  },
  {
   "cell_type": "code",
   "execution_count": 62,
   "metadata": {},
   "outputs": [],
   "source": [
    "X = clust_data.head(10000)"
   ]
  },
  {
   "cell_type": "code",
   "execution_count": 63,
   "metadata": {},
   "outputs": [
    {
     "data": {
      "text/plain": [
       "(10000, 4)"
      ]
     },
     "execution_count": 63,
     "metadata": {},
     "output_type": "execute_result"
    }
   ],
   "source": [
    "X.shape"
   ]
  },
  {
   "cell_type": "code",
   "execution_count": 64,
   "metadata": {},
   "outputs": [
    {
     "data": {
      "text/plain": [
       "(993600, 4)"
      ]
     },
     "execution_count": 64,
     "metadata": {},
     "output_type": "execute_result"
    }
   ],
   "source": [
    "clust_data.shape"
   ]
  },
  {
   "cell_type": "code",
   "execution_count": 65,
   "metadata": {},
   "outputs": [
    {
     "name": "stdout",
     "output_type": "stream",
     "text": [
      "Requirement already satisfied: kmodes in c:\\users\\hanit\\anaconda3\\lib\\site-packages (0.10.2)\n",
      "Requirement already satisfied: scipy>=0.13.3 in c:\\users\\hanit\\anaconda3\\lib\\site-packages (from kmodes) (1.4.1)\n",
      "Requirement already satisfied: numpy>=1.10.4 in c:\\users\\hanit\\anaconda3\\lib\\site-packages (from kmodes) (1.18.1)\n",
      "Requirement already satisfied: joblib>=0.11 in c:\\users\\hanit\\anaconda3\\lib\\site-packages (from kmodes) (0.14.1)\n",
      "Requirement already satisfied: scikit-learn>=0.19.0 in c:\\users\\hanit\\anaconda3\\lib\\site-packages (from kmodes) (0.22.1)\n"
     ]
    },
    {
     "name": "stderr",
     "output_type": "stream",
     "text": [
      "WARNING: You are using pip version 20.0.2; however, version 20.1.1 is available.\n",
      "You should consider upgrading via the 'C:\\Users\\hanit\\anaconda3\\python.exe -m pip install --upgrade pip' command.\n"
     ]
    }
   ],
   "source": [
    "!pip install kmodes"
   ]
  },
  {
   "cell_type": "code",
   "execution_count": 66,
   "metadata": {},
   "outputs": [],
   "source": [
    "from kmodes.kmodes import KModes\n",
    "from kmodes.kprototypes import KPrototypes\n",
    "import matplotlib.pyplot as plt\n",
    "from matplotlib import style\n",
    "%matplotlib inline"
   ]
  },
  {
   "cell_type": "code",
   "execution_count": 67,
   "metadata": {},
   "outputs": [
    {
     "data": {
      "text/plain": [
       "<function matplotlib.pyplot.show(*args, **kw)>"
      ]
     },
     "execution_count": 67,
     "metadata": {},
     "output_type": "execute_result"
    },
    {
     "data": {
      "image/png": "[encoded data removed]",
      "text/plain": [
       "<Figure size 432x288 with 1 Axes>"
      ]
     },
     "metadata": {
      "needs_background": "light"
     },
     "output_type": "display_data"
    }
   ],
   "source": [
    "#Choosing optimal K value\n",
    "cost = []\n",
    "# X = ad_analysisKwords_df100\n",
    "for num_clusters in list(range(2,10)):\n",
    "    kproto = KPrototypes(n_clusters=num_clusters, init='Huang', random_state=42) \n",
    "    kproto.fit(X, categorical=[3])\n",
    "    cost.append(kproto.cost_)\n",
    "\n",
    "plt.plot(cost)\n",
    "plt.xlabel('K')\n",
    "plt.ylabel('cost')\n",
    "plt.show"
   ]
  },
  {
   "cell_type": "code",
   "execution_count": 68,
   "metadata": {},
   "outputs": [],
   "source": [
    "m = KModes(n_clusters=4)"
   ]
  },
  {
   "cell_type": "code",
   "execution_count": 69,
   "metadata": {},
   "outputs": [
    {
     "name": "stdout",
     "output_type": "stream",
     "text": [
      "[3 0 1 1 2 3 0 3 2 1]\n"
     ]
    }
   ],
   "source": [
    "kproto = KPrototypes(n_clusters=4, init='Huang', random_state=42) \n",
    "predicted_Cluster = kproto.fit_predict(X, categorical=[3])\n",
    "print(predicted_Cluster[:10])\n",
    "    "
   ]
  },
  {
   "cell_type": "code",
   "execution_count": null,
   "metadata": {},
   "outputs": [],
   "source": [
    "# col_of_cluster = .columns\n",
    "# col_of_cluster"
   ]
  },
  {
   "cell_type": "code",
   "execution_count": 70,
   "metadata": {},
   "outputs": [
    {
     "name": "stderr",
     "output_type": "stream",
     "text": [
      "C:\\Users\\hanit\\anaconda3\\lib\\site-packages\\ipykernel_launcher.py:1: SettingWithCopyWarning: \n",
      "A value is trying to be set on a copy of a slice from a DataFrame.\n",
      "Try using .loc[row_indexer,col_indexer] = value instead\n",
      "\n",
      "See the caveats in the documentation: https://pandas.pydata.org/pandas-docs/stable/user_guide/indexing.html#returning-a-view-versus-a-copy\n",
      "  \"\"\"Entry point for launching an IPython kernel.\n"
     ]
    }
   ],
   "source": [
    "X['Cluster'] = predicted_Cluster"
   ]
  },
  {
   "cell_type": "code",
   "execution_count": 71,
   "metadata": {},
   "outputs": [
    {
     "data": {
      "text/html": [
       "<div>\n",
       "<style scoped>\n",
       "    .dataframe tbody tr th:only-of-type {\n",
       "        vertical-align: middle;\n",
       "    }\n",
       "\n",
       "    .dataframe tbody tr th {\n",
       "        vertical-align: top;\n",
       "    }\n",
       "\n",
       "    .dataframe thead th {\n",
       "        text-align: right;\n",
       "    }\n",
       "</style>\n",
       "<table border=\"1\" class=\"dataframe\">\n",
       "  <thead>\n",
       "    <tr style=\"text-align: right;\">\n",
       "      <th></th>\n",
       "      <th>Results</th>\n",
       "      <th>Cost Per Result</th>\n",
       "      <th>CTR</th>\n",
       "      <th>Image_props</th>\n",
       "      <th>Cluster</th>\n",
       "    </tr>\n",
       "  </thead>\n",
       "  <tbody>\n",
       "    <tr>\n",
       "      <th>0</th>\n",
       "      <td>29536</td>\n",
       "      <td>186</td>\n",
       "      <td>1.48</td>\n",
       "      <td>['person']</td>\n",
       "      <td>3</td>\n",
       "    </tr>\n",
       "    <tr>\n",
       "      <th>1</th>\n",
       "      <td>24691</td>\n",
       "      <td>466</td>\n",
       "      <td>0.15</td>\n",
       "      <td>['person']</td>\n",
       "      <td>0</td>\n",
       "    </tr>\n",
       "    <tr>\n",
       "      <th>2</th>\n",
       "      <td>87286</td>\n",
       "      <td>459</td>\n",
       "      <td>0.88</td>\n",
       "      <td>['person']</td>\n",
       "      <td>1</td>\n",
       "    </tr>\n",
       "    <tr>\n",
       "      <th>3</th>\n",
       "      <td>88571</td>\n",
       "      <td>109</td>\n",
       "      <td>1.88</td>\n",
       "      <td>['person']</td>\n",
       "      <td>1</td>\n",
       "    </tr>\n",
       "    <tr>\n",
       "      <th>4</th>\n",
       "      <td>66433</td>\n",
       "      <td>236</td>\n",
       "      <td>1.88</td>\n",
       "      <td>['person']</td>\n",
       "      <td>2</td>\n",
       "    </tr>\n",
       "  </tbody>\n",
       "</table>\n",
       "</div>"
      ],
      "text/plain": [
       "   Results  Cost Per Result   CTR Image_props  Cluster\n",
       "0    29536              186  1.48  ['person']        3\n",
       "1    24691              466  0.15  ['person']        0\n",
       "2    87286              459  0.88  ['person']        1\n",
       "3    88571              109  1.88  ['person']        1\n",
       "4    66433              236  1.88  ['person']        2"
      ]
     },
     "execution_count": 71,
     "metadata": {},
     "output_type": "execute_result"
    }
   ],
   "source": [
    "X.head()"
   ]
  },
  {
   "cell_type": "code",
   "execution_count": 72,
   "metadata": {},
   "outputs": [],
   "source": [
    "def GetClustername(topPerform):\n",
    "    clusterName = \"Cluster-1\"\n",
    "    if topPerform==0:\n",
    "         clusterName = \"Cluster-1\"\n",
    "    elif topPerform==1:\n",
    "         clusterName = \"Cluster-2\"\n",
    "    elif topPerform==2:\n",
    "         clusterName = \"Cluster-3\"\n",
    "    elif topPerform==3:\n",
    "         clusterName = \"Cluster-4\"\n",
    "    return clusterName"
   ]
  },
  {
   "cell_type": "code",
   "execution_count": 73,
   "metadata": {},
   "outputs": [
    {
     "name": "stderr",
     "output_type": "stream",
     "text": [
      "C:\\Users\\hanit\\anaconda3\\lib\\site-packages\\ipykernel_launcher.py:1: SettingWithCopyWarning: \n",
      "A value is trying to be set on a copy of a slice from a DataFrame.\n",
      "Try using .loc[row_indexer,col_indexer] = value instead\n",
      "\n",
      "See the caveats in the documentation: https://pandas.pydata.org/pandas-docs/stable/user_guide/indexing.html#returning-a-view-versus-a-copy\n",
      "  \"\"\"Entry point for launching an IPython kernel.\n"
     ]
    }
   ],
   "source": [
    "X['Clusters'] = X.Cluster.apply(GetClustername)"
   ]
  },
  {
   "cell_type": "code",
   "execution_count": 74,
   "metadata": {},
   "outputs": [
    {
     "data": {
      "text/html": [
       "<div>\n",
       "<style scoped>\n",
       "    .dataframe tbody tr th:only-of-type {\n",
       "        vertical-align: middle;\n",
       "    }\n",
       "\n",
       "    .dataframe tbody tr th {\n",
       "        vertical-align: top;\n",
       "    }\n",
       "\n",
       "    .dataframe thead th {\n",
       "        text-align: right;\n",
       "    }\n",
       "</style>\n",
       "<table border=\"1\" class=\"dataframe\">\n",
       "  <thead>\n",
       "    <tr style=\"text-align: right;\">\n",
       "      <th></th>\n",
       "      <th>Results</th>\n",
       "      <th>Cost Per Result</th>\n",
       "      <th>CTR</th>\n",
       "      <th>Image_props</th>\n",
       "      <th>Cluster</th>\n",
       "      <th>Clusters</th>\n",
       "    </tr>\n",
       "  </thead>\n",
       "  <tbody>\n",
       "    <tr>\n",
       "      <th>0</th>\n",
       "      <td>29536</td>\n",
       "      <td>186</td>\n",
       "      <td>1.48</td>\n",
       "      <td>['person']</td>\n",
       "      <td>3</td>\n",
       "      <td>Cluster-4</td>\n",
       "    </tr>\n",
       "    <tr>\n",
       "      <th>1</th>\n",
       "      <td>24691</td>\n",
       "      <td>466</td>\n",
       "      <td>0.15</td>\n",
       "      <td>['person']</td>\n",
       "      <td>0</td>\n",
       "      <td>Cluster-1</td>\n",
       "    </tr>\n",
       "    <tr>\n",
       "      <th>2</th>\n",
       "      <td>87286</td>\n",
       "      <td>459</td>\n",
       "      <td>0.88</td>\n",
       "      <td>['person']</td>\n",
       "      <td>1</td>\n",
       "      <td>Cluster-2</td>\n",
       "    </tr>\n",
       "    <tr>\n",
       "      <th>3</th>\n",
       "      <td>88571</td>\n",
       "      <td>109</td>\n",
       "      <td>1.88</td>\n",
       "      <td>['person']</td>\n",
       "      <td>1</td>\n",
       "      <td>Cluster-2</td>\n",
       "    </tr>\n",
       "    <tr>\n",
       "      <th>4</th>\n",
       "      <td>66433</td>\n",
       "      <td>236</td>\n",
       "      <td>1.88</td>\n",
       "      <td>['person']</td>\n",
       "      <td>2</td>\n",
       "      <td>Cluster-3</td>\n",
       "    </tr>\n",
       "  </tbody>\n",
       "</table>\n",
       "</div>"
      ],
      "text/plain": [
       "   Results  Cost Per Result   CTR Image_props  Cluster   Clusters\n",
       "0    29536              186  1.48  ['person']        3  Cluster-4\n",
       "1    24691              466  0.15  ['person']        0  Cluster-1\n",
       "2    87286              459  0.88  ['person']        1  Cluster-2\n",
       "3    88571              109  1.88  ['person']        1  Cluster-2\n",
       "4    66433              236  1.88  ['person']        2  Cluster-3"
      ]
     },
     "execution_count": 74,
     "metadata": {},
     "output_type": "execute_result"
    }
   ],
   "source": [
    "X.head()"
   ]
  },
  {
   "cell_type": "code",
   "execution_count": 75,
   "metadata": {},
   "outputs": [],
   "source": [
    "import seaborn as sns"
   ]
  },
  {
   "cell_type": "code",
   "execution_count": 76,
   "metadata": {},
   "outputs": [
    {
     "data": {
      "image/png": "[encoded data removed]",
      "text/plain": [
       "<Figure size 432x288 with 1 Axes>"
      ]
     },
     "metadata": {
      "needs_background": "light"
     },
     "output_type": "display_data"
    }
   ],
   "source": [
    "# Plotting Categorical Data\n",
    "sns.countplot(x=\"Clusters\", data=X)\n",
    "plt.show()"
   ]
  },
  {
   "cell_type": "code",
   "execution_count": 80,
   "metadata": {},
   "outputs": [],
   "source": [
    "temp = X[X['Clusters'] == 'Cluster-4']"
   ]
  },
  {
   "cell_type": "code",
   "execution_count": 81,
   "metadata": {},
   "outputs": [
    {
     "data": {
      "text/html": [
       "<div>\n",
       "<style scoped>\n",
       "    .dataframe tbody tr th:only-of-type {\n",
       "        vertical-align: middle;\n",
       "    }\n",
       "\n",
       "    .dataframe tbody tr th {\n",
       "        vertical-align: top;\n",
       "    }\n",
       "\n",
       "    .dataframe thead th {\n",
       "        text-align: right;\n",
       "    }\n",
       "</style>\n",
       "<table border=\"1\" class=\"dataframe\">\n",
       "  <thead>\n",
       "    <tr style=\"text-align: right;\">\n",
       "      <th></th>\n",
       "      <th>Results</th>\n",
       "      <th>Cost Per Result</th>\n",
       "      <th>CTR</th>\n",
       "      <th>Image_props</th>\n",
       "      <th>Cluster</th>\n",
       "      <th>Clusters</th>\n",
       "    </tr>\n",
       "  </thead>\n",
       "  <tbody>\n",
       "    <tr>\n",
       "      <th>0</th>\n",
       "      <td>29536</td>\n",
       "      <td>186</td>\n",
       "      <td>1.48</td>\n",
       "      <td>['person']</td>\n",
       "      <td>3</td>\n",
       "      <td>Cluster-4</td>\n",
       "    </tr>\n",
       "    <tr>\n",
       "      <th>5</th>\n",
       "      <td>47550</td>\n",
       "      <td>421</td>\n",
       "      <td>1.28</td>\n",
       "      <td>['person']</td>\n",
       "      <td>3</td>\n",
       "      <td>Cluster-4</td>\n",
       "    </tr>\n",
       "    <tr>\n",
       "      <th>7</th>\n",
       "      <td>33105</td>\n",
       "      <td>203</td>\n",
       "      <td>1.32</td>\n",
       "      <td>['person']</td>\n",
       "      <td>3</td>\n",
       "      <td>Cluster-4</td>\n",
       "    </tr>\n",
       "    <tr>\n",
       "      <th>12</th>\n",
       "      <td>44925</td>\n",
       "      <td>75</td>\n",
       "      <td>1.81</td>\n",
       "      <td>['person']</td>\n",
       "      <td>3</td>\n",
       "      <td>Cluster-4</td>\n",
       "    </tr>\n",
       "    <tr>\n",
       "      <th>14</th>\n",
       "      <td>34671</td>\n",
       "      <td>183</td>\n",
       "      <td>0.44</td>\n",
       "      <td>['person']</td>\n",
       "      <td>3</td>\n",
       "      <td>Cluster-4</td>\n",
       "    </tr>\n",
       "    <tr>\n",
       "      <th>...</th>\n",
       "      <td>...</td>\n",
       "      <td>...</td>\n",
       "      <td>...</td>\n",
       "      <td>...</td>\n",
       "      <td>...</td>\n",
       "      <td>...</td>\n",
       "    </tr>\n",
       "    <tr>\n",
       "      <th>9981</th>\n",
       "      <td>25260</td>\n",
       "      <td>28</td>\n",
       "      <td>1.28</td>\n",
       "      <td>[]</td>\n",
       "      <td>3</td>\n",
       "      <td>Cluster-4</td>\n",
       "    </tr>\n",
       "    <tr>\n",
       "      <th>9986</th>\n",
       "      <td>45590</td>\n",
       "      <td>263</td>\n",
       "      <td>1.12</td>\n",
       "      <td>[]</td>\n",
       "      <td>3</td>\n",
       "      <td>Cluster-4</td>\n",
       "    </tr>\n",
       "    <tr>\n",
       "      <th>9990</th>\n",
       "      <td>27073</td>\n",
       "      <td>493</td>\n",
       "      <td>1.49</td>\n",
       "      <td>[]</td>\n",
       "      <td>3</td>\n",
       "      <td>Cluster-4</td>\n",
       "    </tr>\n",
       "    <tr>\n",
       "      <th>9991</th>\n",
       "      <td>45832</td>\n",
       "      <td>311</td>\n",
       "      <td>0.84</td>\n",
       "      <td>[]</td>\n",
       "      <td>3</td>\n",
       "      <td>Cluster-4</td>\n",
       "    </tr>\n",
       "    <tr>\n",
       "      <th>9998</th>\n",
       "      <td>45030</td>\n",
       "      <td>241</td>\n",
       "      <td>1.71</td>\n",
       "      <td>[]</td>\n",
       "      <td>3</td>\n",
       "      <td>Cluster-4</td>\n",
       "    </tr>\n",
       "  </tbody>\n",
       "</table>\n",
       "<p>2535 rows × 6 columns</p>\n",
       "</div>"
      ],
      "text/plain": [
       "      Results  Cost Per Result   CTR Image_props  Cluster   Clusters\n",
       "0       29536              186  1.48  ['person']        3  Cluster-4\n",
       "5       47550              421  1.28  ['person']        3  Cluster-4\n",
       "7       33105              203  1.32  ['person']        3  Cluster-4\n",
       "12      44925               75  1.81  ['person']        3  Cluster-4\n",
       "14      34671              183  0.44  ['person']        3  Cluster-4\n",
       "...       ...              ...   ...         ...      ...        ...\n",
       "9981    25260               28  1.28          []        3  Cluster-4\n",
       "9986    45590              263  1.12          []        3  Cluster-4\n",
       "9990    27073              493  1.49          []        3  Cluster-4\n",
       "9991    45832              311  0.84          []        3  Cluster-4\n",
       "9998    45030              241  1.71          []        3  Cluster-4\n",
       "\n",
       "[2535 rows x 6 columns]"
      ]
     },
     "execution_count": 81,
     "metadata": {},
     "output_type": "execute_result"
    }
   ],
   "source": [
    "temp"
   ]
  },
  {
   "cell_type": "code",
   "execution_count": null,
   "metadata": {},
   "outputs": [],
   "source": []
  },
  {
   "cell_type": "code",
   "execution_count": null,
   "metadata": {},
   "outputs": [],
   "source": []
  },
  {
   "cell_type": "code",
   "execution_count": null,
   "metadata": {},
   "outputs": [],
   "source": []
  },
  {
   "cell_type": "code",
   "execution_count": null,
   "metadata": {},
   "outputs": [],
   "source": []
  },
  {
   "cell_type": "code",
   "execution_count": null,
   "metadata": {},
   "outputs": [],
   "source": []
  },
  {
   "cell_type": "code",
   "execution_count": null,
   "metadata": {},
   "outputs": [],
   "source": []
  },
  {
   "cell_type": "code",
   "execution_count": null,
   "metadata": {},
   "outputs": [],
   "source": []
  },
  {
   "cell_type": "code",
   "execution_count": null,
   "metadata": {},
   "outputs": [],
   "source": []
  },
  {
   "cell_type": "code",
   "execution_count": null,
   "metadata": {},
   "outputs": [],
   "source": []
  },
  {
   "cell_type": "code",
   "execution_count": 28,
   "metadata": {},
   "outputs": [
    {
     "name": "stdout",
     "output_type": "stream",
     "text": [
      "Collecting scikit-learn-extra\n",
      "  Downloading scikit-learn-extra-0.1.0b2.tar.gz (615 kB)\n",
      "  Installing build dependencies: started\n",
      "  Installing build dependencies: finished with status 'done'\n",
      "  Getting requirements to build wheel: started\n",
      "  Getting requirements to build wheel: finished with status 'done'\n",
      "    Preparing wheel metadata: started\n",
      "    Preparing wheel metadata: finished with status 'done'\n",
      "Requirement already satisfied: scipy>=0.19.1 in c:\\users\\hanit\\anaconda3\\lib\\site-packages (from scikit-learn-extra) (1.4.1)\n",
      "Requirement already satisfied: scikit-learn>=0.21.0 in c:\\users\\hanit\\anaconda3\\lib\\site-packages (from scikit-learn-extra) (0.22.1)\n",
      "Requirement already satisfied: numpy>=1.13.3 in c:\\users\\hanit\\anaconda3\\lib\\site-packages (from scikit-learn-extra) (1.18.1)\n",
      "Requirement already satisfied: joblib>=0.11 in c:\\users\\hanit\\anaconda3\\lib\\site-packages (from scikit-learn>=0.21.0->scikit-learn-extra) (0.14.1)\n",
      "Building wheels for collected packages: scikit-learn-extra\n",
      "  Building wheel for scikit-learn-extra (PEP 517): started\n",
      "  Building wheel for scikit-learn-extra (PEP 517): finished with status 'done'\n",
      "  Created wheel for scikit-learn-extra: filename=scikit_learn_extra-0.1.0b2-cp37-cp37m-win_amd64.whl size=102580 sha256=6fd63fe2533f08c9f4091825520df31373a95da05ad627f4215b9a75c5aa2ea1\n",
      "  Stored in directory: c:\\users\\hanit\\appdata\\local\\pip\\cache\\wheels\\20\\73\\08\\e2ab008d0275628ccfd985b1f2b370330104d9d4ddb995bb67\n",
      "Successfully built scikit-learn-extra\n",
      "Installing collected packages: scikit-learn-extra\n",
      "Successfully installed scikit-learn-extra-0.1.0b2\n"
     ]
    },
    {
     "name": "stderr",
     "output_type": "stream",
     "text": [
      "WARNING: You are using pip version 20.0.2; however, version 20.1.1 is available.\n",
      "You should consider upgrading via the 'C:\\Users\\hanit\\anaconda3\\python.exe -m pip install --upgrade pip' command.\n"
     ]
    }
   ],
   "source": [
    "!pip install scikit-learn-extra"
   ]
  },
  {
   "cell_type": "code",
   "execution_count": 30,
   "metadata": {},
   "outputs": [],
   "source": [
    "from sklearn.cluster import KMeans\n",
    "from sklearn_extra.cluster import KMedoids\n",
    "import copy as cp\n",
    "%matplotlib inline\n",
    "from matplotlib import pyplot as plt"
   ]
  },
  {
   "cell_type": "code",
   "execution_count": 1,
   "metadata": {},
   "outputs": [],
   "source": [
    "class k_medoids:\n",
    "    def __init__(self, k = 2, max_iter = 300, has_converged = False):\n",
    "        ''' \n",
    "        Class constructor\n",
    "        Parameters\n",
    "        ----------\n",
    "        - k: number of clusters. \n",
    "        - max_iter: number of times centroids will move\n",
    "        - has_converged: to check if the algorithm stop or not\n",
    "        '''\n",
    "        self.k = k\n",
    "        self.max_iter = max_iter\n",
    "        self.has_converged = has_converged\n",
    "        self.medoids_cost = []"
   ]
  },
  {
   "cell_type": "code",
   "execution_count": 15,
   "metadata": {},
   "outputs": [],
   "source": [
    "def initMedoids(self, X):\n",
    "        ''' \n",
    "        Parameters\n",
    "        ----------\n",
    "        X: input data. \n",
    "        '''\n",
    "        self.medoids = []\n",
    "        \n",
    "        #Starting medoids will be random members from data set X\n",
    "        indexes = np.random.randint(0, len(X)-1,self.k)\n",
    "        self.medoids = X[indexes]\n",
    "        \n",
    "        for i in range(0,self.k):\n",
    "            self.medoids_cost.append(0)"
   ]
  },
  {
   "cell_type": "code",
   "execution_count": 43,
   "metadata": {},
   "outputs": [
    {
     "ename": "NameError",
     "evalue": "name 'self' is not defined",
     "output_type": "error",
     "traceback": [
      "\u001b[1;31m---------------------------------------------------------------------------\u001b[0m",
      "\u001b[1;31mNameError\u001b[0m                                 Traceback (most recent call last)",
      "\u001b[1;32m<ipython-input-43-df014796192f>\u001b[0m in \u001b[0;36m<module>\u001b[1;34m\u001b[0m\n\u001b[0;32m      1\u001b[0m \u001b[0mnew_medoids\u001b[0m \u001b[1;33m=\u001b[0m \u001b[1;33m[\u001b[0m\u001b[1;33m]\u001b[0m\u001b[1;33m\u001b[0m\u001b[1;33m\u001b[0m\u001b[0m\n\u001b[1;32m----> 2\u001b[1;33m \u001b[1;32mfor\u001b[0m \u001b[0mi\u001b[0m \u001b[1;32min\u001b[0m \u001b[0mrange\u001b[0m\u001b[1;33m(\u001b[0m\u001b[1;36m0\u001b[0m\u001b[1;33m,\u001b[0m \u001b[0mself\u001b[0m\u001b[1;33m.\u001b[0m\u001b[0mk\u001b[0m\u001b[1;33m)\u001b[0m\u001b[1;33m:\u001b[0m\u001b[1;33m\u001b[0m\u001b[1;33m\u001b[0m\u001b[0m\n\u001b[0m\u001b[0;32m      3\u001b[0m     \u001b[0mnew_medoid\u001b[0m \u001b[1;33m=\u001b[0m \u001b[0mself\u001b[0m\u001b[1;33m.\u001b[0m\u001b[0mmedoids\u001b[0m\u001b[1;33m[\u001b[0m\u001b[0mi\u001b[0m\u001b[1;33m]\u001b[0m\u001b[1;33m\u001b[0m\u001b[1;33m\u001b[0m\u001b[0m\n\u001b[0;32m      4\u001b[0m     \u001b[0mold_medoids_cost\u001b[0m \u001b[1;33m=\u001b[0m \u001b[0mself\u001b[0m\u001b[1;33m.\u001b[0m\u001b[0mmedoids_cost\u001b[0m\u001b[1;33m[\u001b[0m\u001b[0mi\u001b[0m\u001b[1;33m]\u001b[0m\u001b[1;33m\u001b[0m\u001b[1;33m\u001b[0m\u001b[0m\n\u001b[0;32m      5\u001b[0m \u001b[1;33m\u001b[0m\u001b[0m\n",
      "\u001b[1;31mNameError\u001b[0m: name 'self' is not defined"
     ]
    }
   ],
   "source": [
    "new_medoids = []\n",
    "for i in range(0, self.k):\n",
    "    new_medoid = self.medoids[i]\n",
    "    old_medoids_cost = self.medoids_cost[i]\n",
    "    \n",
    "    for j in range(len(clusters[i])):\n",
    "        #Cost of the current data points to be compared with the current optimal cost\n",
    "        cur_medoids_cost = 0\n",
    "        \n",
    "for dpoint_index in range(len(clusters[i])):\n",
    "                    cur_medoids_cost += euclideanDistance(clusters[i][j], clusters[i][dpoint_index])\n",
    "                \n",
    "                #If current cost is less than current optimal cost,\n",
    "                #make the current data point new medoid of the cluster\n",
    "if cur_medoids_cost < old_medoids_cost:\n",
    "                    new_medoid = clusters[i][j]\n",
    "                    old_medoids_cost = cur_medoids_cost\n",
    "                    \n",
    "    #Now we have the optimal medoid of the current cluster\n",
    "new_medoids.append(new_medoid)\n",
    "        "
   ]
  },
  {
   "cell_type": "code",
   "execution_count": 34,
   "metadata": {},
   "outputs": [
    {
     "ename": "NameError",
     "evalue": "name 'self' is not defined",
     "output_type": "error",
     "traceback": [
      "\u001b[1;31m---------------------------------------------------------------------------\u001b[0m",
      "\u001b[1;31mNameError\u001b[0m                                 Traceback (most recent call last)",
      "\u001b[1;32m<ipython-input-34-b77301555713>\u001b[0m in \u001b[0;36m<module>\u001b[1;34m\u001b[0m\n\u001b[0;32m      1\u001b[0m \u001b[0mnew_medoids\u001b[0m \u001b[1;33m=\u001b[0m \u001b[1;33m[\u001b[0m\u001b[1;33m]\u001b[0m\u001b[1;33m\u001b[0m\u001b[1;33m\u001b[0m\u001b[0m\n\u001b[1;32m----> 2\u001b[1;33m \u001b[1;32mfor\u001b[0m \u001b[0mi\u001b[0m \u001b[1;32min\u001b[0m \u001b[0mrange\u001b[0m\u001b[1;33m(\u001b[0m\u001b[1;36m0\u001b[0m\u001b[1;33m,\u001b[0m \u001b[0mself\u001b[0m\u001b[1;33m.\u001b[0m\u001b[0mk\u001b[0m\u001b[1;33m)\u001b[0m\u001b[1;33m:\u001b[0m\u001b[1;33m\u001b[0m\u001b[1;33m\u001b[0m\u001b[0m\n\u001b[0m\u001b[0;32m      3\u001b[0m     \u001b[0mnew_medoid\u001b[0m \u001b[1;33m=\u001b[0m \u001b[0mself\u001b[0m\u001b[1;33m.\u001b[0m\u001b[0mmedoids\u001b[0m\u001b[1;33m[\u001b[0m\u001b[0mi\u001b[0m\u001b[1;33m]\u001b[0m\u001b[1;33m\u001b[0m\u001b[1;33m\u001b[0m\u001b[0m\n\u001b[0;32m      4\u001b[0m     \u001b[0mold_medoids_cost\u001b[0m \u001b[1;33m=\u001b[0m \u001b[0mself\u001b[0m\u001b[1;33m.\u001b[0m\u001b[0mmedoids_cost\u001b[0m\u001b[1;33m[\u001b[0m\u001b[0mi\u001b[0m\u001b[1;33m]\u001b[0m\u001b[1;33m\u001b[0m\u001b[1;33m\u001b[0m\u001b[0m\n\u001b[0;32m      5\u001b[0m \u001b[1;33m\u001b[0m\u001b[0m\n",
      "\u001b[1;31mNameError\u001b[0m: name 'self' is not defined"
     ]
    }
   ],
   "source": [
    "new_medoids = []\n",
    "for i in range(0, self.k):\n",
    "    new_medoid = self.medoids[i]\n",
    "    old_medoids_cost = self.medoids_cost[i]\n",
    "    \n",
    "    for j in range(len(clusters[i])):\n",
    "        #Cost of the current data points to be compared with the current optimal cost\n",
    "               \n",
    "                cur_medoids_cost = 0\n",
    "                for dpoint_index in range(len(clusters[i])):\n",
    "                    cur_medoids_cost += euclideanDistance(clusters[i][j], clusters[i][dpoint_index])\n",
    "                \n",
    "                #If current cost is less than current optimal cost,\n",
    "                #make the current data point new medoid of the cluster\n",
    "                if cur_medoids_cost < old_medoids_cost:\n",
    "                    new_medoid = clusters[i][j]\n",
    "                    old_medoids_cost = cur_medoids_cost\n",
    "            \n",
    "            #Now we have the optimal medoid of the current cluster\n",
    "new_medoids.append(new_medoid)"
   ]
  },
  {
   "cell_type": "code",
   "execution_count": null,
   "metadata": {},
   "outputs": [],
   "source": []
  },
  {
   "cell_type": "code",
   "execution_count": 31,
   "metadata": {},
   "outputs": [
    {
     "ename": "ValueError",
     "evalue": "could not convert string to float: \"['person']\"",
     "output_type": "error",
     "traceback": [
      "\u001b[1;31m---------------------------------------------------------------------------\u001b[0m",
      "\u001b[1;31mValueError\u001b[0m                                Traceback (most recent call last)",
      "\u001b[1;32m<ipython-input-31-d466839152ad>\u001b[0m in \u001b[0;36m<module>\u001b[1;34m\u001b[0m\n\u001b[0;32m      4\u001b[0m \u001b[1;32mfor\u001b[0m \u001b[0mk\u001b[0m \u001b[1;32min\u001b[0m \u001b[0mclusterRange\u001b[0m\u001b[1;33m:\u001b[0m\u001b[1;33m\u001b[0m\u001b[1;33m\u001b[0m\u001b[0m\n\u001b[0;32m      5\u001b[0m     \u001b[0mkm\u001b[0m \u001b[1;33m=\u001b[0m \u001b[0mKMedoids\u001b[0m\u001b[1;33m(\u001b[0m\u001b[0mn_clusters\u001b[0m\u001b[1;33m=\u001b[0m\u001b[0mk\u001b[0m\u001b[1;33m)\u001b[0m\u001b[1;33m\u001b[0m\u001b[1;33m\u001b[0m\u001b[0m\n\u001b[1;32m----> 6\u001b[1;33m     \u001b[0mkm\u001b[0m\u001b[1;33m.\u001b[0m\u001b[0mfit\u001b[0m\u001b[1;33m(\u001b[0m\u001b[0mclust_data\u001b[0m\u001b[1;33m)\u001b[0m\u001b[1;33m\u001b[0m\u001b[1;33m\u001b[0m\u001b[0m\n\u001b[0m\u001b[0;32m      7\u001b[0m     \u001b[0msse\u001b[0m\u001b[1;33m.\u001b[0m\u001b[0mappend\u001b[0m\u001b[1;33m(\u001b[0m\u001b[0mkm\u001b[0m\u001b[1;33m.\u001b[0m\u001b[0minertia_\u001b[0m\u001b[1;33m)\u001b[0m\u001b[1;33m\u001b[0m\u001b[1;33m\u001b[0m\u001b[0m\n",
      "\u001b[1;32m~\\anaconda3\\lib\\site-packages\\sklearn_extra\\cluster\\_k_medoids.py\u001b[0m in \u001b[0;36mfit\u001b[1;34m(self, X, y)\u001b[0m\n\u001b[0;32m    171\u001b[0m \u001b[1;33m\u001b[0m\u001b[0m\n\u001b[0;32m    172\u001b[0m         \u001b[0mself\u001b[0m\u001b[1;33m.\u001b[0m\u001b[0m_check_init_args\u001b[0m\u001b[1;33m(\u001b[0m\u001b[1;33m)\u001b[0m\u001b[1;33m\u001b[0m\u001b[1;33m\u001b[0m\u001b[0m\n\u001b[1;32m--> 173\u001b[1;33m         \u001b[0mX\u001b[0m \u001b[1;33m=\u001b[0m \u001b[0mcheck_array\u001b[0m\u001b[1;33m(\u001b[0m\u001b[0mX\u001b[0m\u001b[1;33m,\u001b[0m \u001b[0maccept_sparse\u001b[0m\u001b[1;33m=\u001b[0m\u001b[1;33m[\u001b[0m\u001b[1;34m\"csr\"\u001b[0m\u001b[1;33m,\u001b[0m \u001b[1;34m\"csc\"\u001b[0m\u001b[1;33m]\u001b[0m\u001b[1;33m)\u001b[0m\u001b[1;33m\u001b[0m\u001b[1;33m\u001b[0m\u001b[0m\n\u001b[0m\u001b[0;32m    174\u001b[0m         \u001b[1;32mif\u001b[0m \u001b[0mself\u001b[0m\u001b[1;33m.\u001b[0m\u001b[0mn_clusters\u001b[0m \u001b[1;33m>\u001b[0m \u001b[0mX\u001b[0m\u001b[1;33m.\u001b[0m\u001b[0mshape\u001b[0m\u001b[1;33m[\u001b[0m\u001b[1;36m0\u001b[0m\u001b[1;33m]\u001b[0m\u001b[1;33m:\u001b[0m\u001b[1;33m\u001b[0m\u001b[1;33m\u001b[0m\u001b[0m\n\u001b[0;32m    175\u001b[0m             raise ValueError(\n",
      "\u001b[1;32m~\\anaconda3\\lib\\site-packages\\sklearn\\utils\\validation.py\u001b[0m in \u001b[0;36mcheck_array\u001b[1;34m(array, accept_sparse, accept_large_sparse, dtype, order, copy, force_all_finite, ensure_2d, allow_nd, ensure_min_samples, ensure_min_features, warn_on_dtype, estimator)\u001b[0m\n\u001b[0;32m    529\u001b[0m                     \u001b[0marray\u001b[0m \u001b[1;33m=\u001b[0m \u001b[0marray\u001b[0m\u001b[1;33m.\u001b[0m\u001b[0mastype\u001b[0m\u001b[1;33m(\u001b[0m\u001b[0mdtype\u001b[0m\u001b[1;33m,\u001b[0m \u001b[0mcasting\u001b[0m\u001b[1;33m=\u001b[0m\u001b[1;34m\"unsafe\"\u001b[0m\u001b[1;33m,\u001b[0m \u001b[0mcopy\u001b[0m\u001b[1;33m=\u001b[0m\u001b[1;32mFalse\u001b[0m\u001b[1;33m)\u001b[0m\u001b[1;33m\u001b[0m\u001b[1;33m\u001b[0m\u001b[0m\n\u001b[0;32m    530\u001b[0m                 \u001b[1;32melse\u001b[0m\u001b[1;33m:\u001b[0m\u001b[1;33m\u001b[0m\u001b[1;33m\u001b[0m\u001b[0m\n\u001b[1;32m--> 531\u001b[1;33m                     \u001b[0marray\u001b[0m \u001b[1;33m=\u001b[0m \u001b[0mnp\u001b[0m\u001b[1;33m.\u001b[0m\u001b[0masarray\u001b[0m\u001b[1;33m(\u001b[0m\u001b[0marray\u001b[0m\u001b[1;33m,\u001b[0m \u001b[0morder\u001b[0m\u001b[1;33m=\u001b[0m\u001b[0morder\u001b[0m\u001b[1;33m,\u001b[0m \u001b[0mdtype\u001b[0m\u001b[1;33m=\u001b[0m\u001b[0mdtype\u001b[0m\u001b[1;33m)\u001b[0m\u001b[1;33m\u001b[0m\u001b[1;33m\u001b[0m\u001b[0m\n\u001b[0m\u001b[0;32m    532\u001b[0m             \u001b[1;32mexcept\u001b[0m \u001b[0mComplexWarning\u001b[0m\u001b[1;33m:\u001b[0m\u001b[1;33m\u001b[0m\u001b[1;33m\u001b[0m\u001b[0m\n\u001b[0;32m    533\u001b[0m                 raise ValueError(\"Complex data not supported\\n\"\n",
      "\u001b[1;32m~\\anaconda3\\lib\\site-packages\\numpy\\core\\_asarray.py\u001b[0m in \u001b[0;36masarray\u001b[1;34m(a, dtype, order)\u001b[0m\n\u001b[0;32m     83\u001b[0m \u001b[1;33m\u001b[0m\u001b[0m\n\u001b[0;32m     84\u001b[0m     \"\"\"\n\u001b[1;32m---> 85\u001b[1;33m     \u001b[1;32mreturn\u001b[0m \u001b[0marray\u001b[0m\u001b[1;33m(\u001b[0m\u001b[0ma\u001b[0m\u001b[1;33m,\u001b[0m \u001b[0mdtype\u001b[0m\u001b[1;33m,\u001b[0m \u001b[0mcopy\u001b[0m\u001b[1;33m=\u001b[0m\u001b[1;32mFalse\u001b[0m\u001b[1;33m,\u001b[0m \u001b[0morder\u001b[0m\u001b[1;33m=\u001b[0m\u001b[0morder\u001b[0m\u001b[1;33m)\u001b[0m\u001b[1;33m\u001b[0m\u001b[1;33m\u001b[0m\u001b[0m\n\u001b[0m\u001b[0;32m     86\u001b[0m \u001b[1;33m\u001b[0m\u001b[0m\n\u001b[0;32m     87\u001b[0m \u001b[1;33m\u001b[0m\u001b[0m\n",
      "\u001b[1;31mValueError\u001b[0m: could not convert string to float: \"['person']\""
     ]
    }
   ],
   "source": [
    "#Elbow plot\n",
    "sse = []\n",
    "clusterRange = range(1,10)\n",
    "for k in clusterRange:\n",
    "    km = KMedoids(n_clusters=k)\n",
    "    km.fit(clust_data)\n",
    "    sse.append(km.inertia_)"
   ]
  },
  {
   "cell_type": "code",
   "execution_count": null,
   "metadata": {},
   "outputs": [],
   "source": []
  }
 ],
 "metadata": {
  "kernelspec": {
   "display_name": "Python 3",
   "language": "python",
   "name": "python3"
  },
  "language_info": {
   "codemirror_mode": {
    "name": "ipython",
    "version": 3
   },
   "file_extension": ".py",
   "mimetype": "text/x-python",
   "name": "python",
   "nbconvert_exporter": "python",
   "pygments_lexer": "ipython3",
   "version": "3.7.6"
  }
 },
 "nbformat": 4,
 "nbformat_minor": 4
}
